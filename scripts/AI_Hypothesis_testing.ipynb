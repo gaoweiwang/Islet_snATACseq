{
 "cells": [
  {
   "cell_type": "code",
   "execution_count": 2,
   "metadata": {},
   "outputs": [],
   "source": [
    "library(Matrix)\n",
    "library(xgboost)\n",
    "library(\"caret\")"
   ]
  },
  {
   "cell_type": "markdown",
   "metadata": {},
   "source": [
    "# load data"
   ]
  },
  {
   "cell_type": "code",
   "execution_count": 1,
   "metadata": {},
   "outputs": [],
   "source": [
    "########### download raw data\n",
    "### Download 10x snATAC-seq raw data from NCBI Gene Expression Omnibus (GSE169453)\n",
    "### Download 10x multiome raw data from NCBI Gene Expression Omnibus (GSE200044)\n",
    "\n",
    "########### Download processed snATAC-seq and multiome data to reproduce figures\n",
    "### There several ways to download processed data.\n",
    "###1, download files less than 25M from github data folder: https://github.com/gaoweiwang/Islet_snATACseq\n",
    "### or, from figshare:\n",
    "### multiome: https://figshare.com/articles/dataset/processed_multiome_zip/19497665\n",
    "### snATACseq: https://figshare.com/articles/dataset/processed_snATACseq_zip/19497656\n",
    "\n",
    "###2, download large processed or intermeidate files:\n",
    "#snATAC-seq data (http://169.228.232.194/~mmallick/o/processed_snATACseq.tar.gz)\n",
    "#multiome data (http://169.228.232.194/~mmallick/o/processed_multiome.tar.gz)\n",
    "\n",
    "########### change working directory\n",
    "wd_snATAC = '/oasis/tscc/scratch/gaw006/snATACseq/processed/'\n",
    "wd_multiome = '/oasis/tscc/scratch/gaw006/multiome/processed/'"
   ]
  },
  {
   "cell_type": "code",
   "execution_count": 3,
   "metadata": {},
   "outputs": [
    {
     "data": {
      "text/html": [
       "<ol class=list-inline>\n",
       "\t<li>218973</li>\n",
       "\t<li>404661</li>\n",
       "</ol>\n"
      ],
      "text/latex": [
       "\\begin{enumerate*}\n",
       "\\item 218973\n",
       "\\item 404661\n",
       "\\end{enumerate*}\n"
      ],
      "text/markdown": [
       "1. 218973\n",
       "2. 404661\n",
       "\n",
       "\n"
      ],
      "text/plain": [
       "[1] 218973 404661"
      ]
     },
     "metadata": {},
     "output_type": "display_data"
    },
    {
     "data": {
      "text/plain": [
       "4 x 4 sparse Matrix of class \"dgTMatrix\"\n",
       "                        1:100000097-100000597 1:100001226-100001726\n",
       "JYH792_AAACGAAAGCATTGGG                     .                     .\n",
       "JYH792_AAACGAAAGGGTCTGA                     .                     .\n",
       "JYH792_AAACGAAAGTAGACCG                     .                     .\n",
       "JYH792_AAACGAACAAATAGTG                     .                     .\n",
       "                        1:100009946-100010446 1:100014513-100015013\n",
       "JYH792_AAACGAAAGCATTGGG                     .                     .\n",
       "JYH792_AAACGAAAGGGTCTGA                     .                     .\n",
       "JYH792_AAACGAAAGTAGACCG                     .                     .\n",
       "JYH792_AAACGAACAAATAGTG                     .                     ."
      ]
     },
     "metadata": {},
     "output_type": "display_data"
    }
   ],
   "source": [
    "rm(list = ls())\n",
    "wd_snATAC = '/oasis/tscc/scratch/gaw006/snATACseq/processed/'\n",
    "wd_multiome = '/oasis/tscc/scratch/gaw006/multiome/processed/'\n",
    "\n",
    "# read in matrix data using the Matrix package\n",
    "indata <- Matrix::readMM(paste0(wd_snATAC,'snATAC_500bp.mtx')) \n",
    "indata@x[indata@x > 0] <- 1\n",
    "dim(indata)\n",
    "\n",
    "# format cell info\n",
    "cellinfo <- read.table(paste0(wd_snATAC,'snATAC_500bp.barcodes'))\n",
    "cell_ID <- as.character(cellinfo$V1)\n",
    "\n",
    "# format peak info\n",
    "peakinfo <- read.table(paste0(wd_snATAC,'snATAC_500bp.regions'))\n",
    "peak_ID <- as.character(peakinfo$V1)\n",
    "\n",
    "rownames(indata)=cell_ID\n",
    "colnames(indata)=peak_ID\n",
    "\n",
    "indata[1:4,1:4]"
   ]
  },
  {
   "cell_type": "code",
   "execution_count": 4,
   "metadata": {},
   "outputs": [
    {
     "data": {
      "text/html": [
       "<ol class=list-inline>\n",
       "\t<li>218973</li>\n",
       "\t<li>395657</li>\n",
       "</ol>\n"
      ],
      "text/latex": [
       "\\begin{enumerate*}\n",
       "\\item 218973\n",
       "\\item 395657\n",
       "\\end{enumerate*}\n"
      ],
      "text/markdown": [
       "1. 218973\n",
       "2. 395657\n",
       "\n",
       "\n"
      ],
      "text/plain": [
       "[1] 218973 395657"
      ]
     },
     "metadata": {},
     "output_type": "display_data"
    },
    {
     "data": {
      "text/html": [
       "9004"
      ],
      "text/latex": [
       "9004"
      ],
      "text/markdown": [
       "9004"
      ],
      "text/plain": [
       "[1] 9004"
      ]
     },
     "metadata": {},
     "output_type": "display_data"
    }
   ],
   "source": [
    "keep_gender=!(grepl(\"X\", peak_ID) | grepl(\"Y\", peak_ID))\n",
    "indata=indata[,keep_gender]\n",
    "dim(indata)\n",
    "length(peak_ID[(grepl(\"X\", peak_ID) | grepl(\"Y\", peak_ID))])"
   ]
  },
  {
   "cell_type": "code",
   "execution_count": 5,
   "metadata": {},
   "outputs": [
    {
     "data": {
      "text/html": [
       "<table>\n",
       "<thead><tr><th scope=col>index</th><th scope=col>donor</th><th scope=col>duplicated_reads</th><th scope=col>frac_duplicated_reads</th><th scope=col>frac_mito_reads</th><th scope=col>frac_promoters_used</th><th scope=col>frac_reads_in_peaks</th><th scope=col>frac_reads_in_promoters</th><th scope=col>log10_n_counts</th><th scope=col>log10_n_peaks</th><th scope=col>⋯</th><th scope=col>reads_in_promoters</th><th scope=col>total_sequenced_reads</th><th scope=col>tss_used</th><th scope=col>unique_mito_reads</th><th scope=col>unique_usable_reads</th><th scope=col>leiden</th><th scope=col>n_count_500bp</th><th scope=col>n_peak_500bp</th><th scope=col>celltype</th><th scope=col>disease</th></tr></thead>\n",
       "<tbody>\n",
       "\t<tr><td>JYH792_AAACGAAAGCATTGGG</td><td>JYH792                 </td><td>1805                   </td><td>0.1117855              </td><td>0.0066071554           </td><td>0.09164685             </td><td>0.4976297              </td><td>0.2753131              </td><td>4.158000               </td><td>3.832892               </td><td>⋯                      </td><td>3891                   </td><td>16147                  </td><td>1773                   </td><td> 94                    </td><td>14133                  </td><td>4                      </td><td>7277                   </td><td>3541                   </td><td>alpha                  </td><td>ND                     </td></tr>\n",
       "\t<tr><td>JYH792_AAACGAAAGGGTCTGA</td><td>JYH792                 </td><td>1904                   </td><td>0.1234040              </td><td>0.0007437709           </td><td>0.06606017             </td><td>0.4494976              </td><td>0.2059546              </td><td>4.133858               </td><td>3.802979               </td><td>⋯                      </td><td>2767                   </td><td>15429                  </td><td>1278                   </td><td> 10                    </td><td>13435                  </td><td>3                      </td><td>6125                   </td><td>3008                   </td><td>beta                   </td><td>ND                     </td></tr>\n",
       "\t<tr><td>JYH792_AAACGAAAGTAGACCG</td><td>JYH792                 </td><td>2062                   </td><td>0.1829474              </td><td>0.0297566372           </td><td>0.03613150             </td><td>0.3530954              </td><td>0.1631513              </td><td>3.944828               </td><td>3.632963               </td><td>⋯                      </td><td>1431                   </td><td>11271                  </td><td> 699                   </td><td>269                    </td><td> 8771                  </td><td>4                      </td><td>3309                   </td><td>1712                   </td><td>alpha                  </td><td>ND                     </td></tr>\n",
       "</tbody>\n",
       "</table>\n"
      ],
      "text/latex": [
       "\\begin{tabular}{r|lllllllllllllllllllllll}\n",
       " index & donor & duplicated\\_reads & frac\\_duplicated\\_reads & frac\\_mito\\_reads & frac\\_promoters\\_used & frac\\_reads\\_in\\_peaks & frac\\_reads\\_in\\_promoters & log10\\_n\\_counts & log10\\_n\\_peaks & ⋯ & reads\\_in\\_promoters & total\\_sequenced\\_reads & tss\\_used & unique\\_mito\\_reads & unique\\_usable\\_reads & leiden & n\\_count\\_500bp & n\\_peak\\_500bp & celltype & disease\\\\\n",
       "\\hline\n",
       "\t JYH792\\_AAACGAAAGCATTGGG & JYH792                    & 1805                      & 0.1117855                 & 0.0066071554              & 0.09164685                & 0.4976297                 & 0.2753131                 & 4.158000                  & 3.832892                  & ⋯                         & 3891                      & 16147                     & 1773                      &  94                       & 14133                     & 4                         & 7277                      & 3541                      & alpha                     & ND                       \\\\\n",
       "\t JYH792\\_AAACGAAAGGGTCTGA & JYH792                    & 1904                      & 0.1234040                 & 0.0007437709              & 0.06606017                & 0.4494976                 & 0.2059546                 & 4.133858                  & 3.802979                  & ⋯                         & 2767                      & 15429                     & 1278                      &  10                       & 13435                     & 3                         & 6125                      & 3008                      & beta                      & ND                       \\\\\n",
       "\t JYH792\\_AAACGAAAGTAGACCG & JYH792                    & 2062                      & 0.1829474                 & 0.0297566372              & 0.03613150                & 0.3530954                 & 0.1631513                 & 3.944828                  & 3.632963                  & ⋯                         & 1431                      & 11271                     &  699                      & 269                       &  8771                     & 4                         & 3309                      & 1712                      & alpha                     & ND                       \\\\\n",
       "\\end{tabular}\n"
      ],
      "text/markdown": [
       "\n",
       "index | donor | duplicated_reads | frac_duplicated_reads | frac_mito_reads | frac_promoters_used | frac_reads_in_peaks | frac_reads_in_promoters | log10_n_counts | log10_n_peaks | ⋯ | reads_in_promoters | total_sequenced_reads | tss_used | unique_mito_reads | unique_usable_reads | leiden | n_count_500bp | n_peak_500bp | celltype | disease | \n",
       "|---|---|---|\n",
       "| JYH792_AAACGAAAGCATTGGG | JYH792                  | 1805                    | 0.1117855               | 0.0066071554            | 0.09164685              | 0.4976297               | 0.2753131               | 4.158000                | 3.832892                | ⋯                       | 3891                    | 16147                   | 1773                    |  94                     | 14133                   | 4                       | 7277                    | 3541                    | alpha                   | ND                      | \n",
       "| JYH792_AAACGAAAGGGTCTGA | JYH792                  | 1904                    | 0.1234040               | 0.0007437709            | 0.06606017              | 0.4494976               | 0.2059546               | 4.133858                | 3.802979                | ⋯                       | 2767                    | 15429                   | 1278                    |  10                     | 13435                   | 3                       | 6125                    | 3008                    | beta                    | ND                      | \n",
       "| JYH792_AAACGAAAGTAGACCG | JYH792                  | 2062                    | 0.1829474               | 0.0297566372            | 0.03613150              | 0.3530954               | 0.1631513               | 3.944828                | 3.632963                | ⋯                       | 1431                    | 11271                   |  699                    | 269                     |  8771                   | 4                       | 3309                    | 1712                    | alpha                   | ND                      | \n",
       "\n",
       "\n"
      ],
      "text/plain": [
       "  index                   donor  duplicated_reads frac_duplicated_reads\n",
       "1 JYH792_AAACGAAAGCATTGGG JYH792 1805             0.1117855            \n",
       "2 JYH792_AAACGAAAGGGTCTGA JYH792 1904             0.1234040            \n",
       "3 JYH792_AAACGAAAGTAGACCG JYH792 2062             0.1829474            \n",
       "  frac_mito_reads frac_promoters_used frac_reads_in_peaks\n",
       "1 0.0066071554    0.09164685          0.4976297          \n",
       "2 0.0007437709    0.06606017          0.4494976          \n",
       "3 0.0297566372    0.03613150          0.3530954          \n",
       "  frac_reads_in_promoters log10_n_counts log10_n_peaks ⋯ reads_in_promoters\n",
       "1 0.2753131               4.158000       3.832892      ⋯ 3891              \n",
       "2 0.2059546               4.133858       3.802979      ⋯ 2767              \n",
       "3 0.1631513               3.944828       3.632963      ⋯ 1431              \n",
       "  total_sequenced_reads tss_used unique_mito_reads unique_usable_reads leiden\n",
       "1 16147                 1773      94               14133               4     \n",
       "2 15429                 1278      10               13435               3     \n",
       "3 11271                  699     269                8771               4     \n",
       "  n_count_500bp n_peak_500bp celltype disease\n",
       "1 7277          3541         alpha    ND     \n",
       "2 6125          3008         beta     ND     \n",
       "3 3309          1712         alpha    ND     "
      ]
     },
     "metadata": {},
     "output_type": "display_data"
    }
   ],
   "source": [
    "#### barcode annotation\n",
    "M=M=read.csv(paste0(wd_snATAC,'barcode_info.csv'))\n",
    "\n",
    "M_donor=as.character(M$donor)\n",
    "M_leiden=as.numeric(M$leiden)\n",
    "\n",
    "C=read.csv(paste0(wd_snATAC,'meta_data.csv'))\n",
    "###subset\n",
    "C=C[(as.character(C$donor) %in% M_donor),]\n",
    "\n",
    "donor_all=as.character(C$donor)\n",
    "disease_all=as.character(C$Sample.Description.Name)\n",
    "donor_ND=donor_all[disease_all=='Non']\n",
    "donor_PD=donor_all[disease_all=='Pre']\n",
    "donor_T2D=donor_all[disease_all=='T2D']\n",
    "\n",
    "M_disease=M_donor\n",
    "M_disease[M_donor %in% donor_ND]='ND'\n",
    "M_disease[M_donor %in% donor_PD]='PD'\n",
    "M_disease[M_donor %in% donor_T2D]='T2D'\n",
    "\n",
    "M_celltype=M_donor\n",
    "alpha_ID=c(0,4,8)\n",
    "beta_ID=c(1,2,3,5)\n",
    "delta_ID=c(6)\n",
    "gamma_ID=c(10)\n",
    "acinar_ID=c(7)\n",
    "ductal_ID=c(9)\n",
    "stellate_ID=c(11)\n",
    "endothelial_ID=c(13)\n",
    "immune_ID=c(12)\n",
    "M_celltype[M_leiden %in% alpha_ID]='alpha'\n",
    "M_celltype[M_leiden %in% beta_ID]='beta'\n",
    "M_celltype[M_leiden %in% delta_ID]='delta'\n",
    "M_celltype[M_leiden %in% gamma_ID]='gamma'\n",
    "M_celltype[M_leiden %in% acinar_ID]='acinar'\n",
    "M_celltype[M_leiden %in% ductal_ID]='ductal'\n",
    "M_celltype[M_leiden %in% stellate_ID]='stellate'\n",
    "M_celltype[M_leiden %in% endothelial_ID]='endothelial'\n",
    "M_celltype[M_leiden %in% immune_ID]='immune'\n",
    "\n",
    "M$celltype=M_celltype\n",
    "M$disease=M_disease\n",
    "M[1:3,]"
   ]
  },
  {
   "cell_type": "code",
   "execution_count": 6,
   "metadata": {},
   "outputs": [
    {
     "data": {
      "text/html": [
       "TRUE"
      ],
      "text/latex": [
       "TRUE"
      ],
      "text/markdown": [
       "TRUE"
      ],
      "text/plain": [
       "[1] TRUE"
      ]
     },
     "metadata": {},
     "output_type": "display_data"
    },
    {
     "data": {
      "text/html": [
       "<ol class=list-inline>\n",
       "\t<li>218973</li>\n",
       "\t<li>395657</li>\n",
       "</ol>\n"
      ],
      "text/latex": [
       "\\begin{enumerate*}\n",
       "\\item 218973\n",
       "\\item 395657\n",
       "\\end{enumerate*}\n"
      ],
      "text/markdown": [
       "1. 218973\n",
       "2. 395657\n",
       "\n",
       "\n"
      ],
      "text/plain": [
       "[1] 218973 395657"
      ]
     },
     "metadata": {},
     "output_type": "display_data"
    },
    {
     "data": {
      "text/html": [
       "230573"
      ],
      "text/latex": [
       "230573"
      ],
      "text/markdown": [
       "230573"
      ],
      "text/plain": [
       "[1] 230573"
      ]
     },
     "metadata": {},
     "output_type": "display_data"
    },
    {
     "data": {
      "text/html": [
       "<ol class=list-inline>\n",
       "\t<li>92780</li>\n",
       "\t<li>224671</li>\n",
       "</ol>\n"
      ],
      "text/latex": [
       "\\begin{enumerate*}\n",
       "\\item 92780\n",
       "\\item 224671\n",
       "\\end{enumerate*}\n"
      ],
      "text/markdown": [
       "1. 92780\n",
       "2. 224671\n",
       "\n",
       "\n"
      ],
      "text/plain": [
       "[1]  92780 224671"
      ]
     },
     "metadata": {},
     "output_type": "display_data"
    },
    {
     "data": {
      "text/html": [
       "TRUE"
      ],
      "text/latex": [
       "TRUE"
      ],
      "text/markdown": [
       "TRUE"
      ],
      "text/plain": [
       "[1] TRUE"
      ]
     },
     "metadata": {},
     "output_type": "display_data"
    }
   ],
   "source": [
    "indata=indata[(rownames(indata) %in% as.character(M$index)),]\n",
    "all(as.character(M$index)==rownames(indata))\n",
    "dim(indata)\n",
    "\n",
    "########################################\n",
    "######### using beta cell as example\n",
    "keep_cell=(M$celltype=='beta')\n",
    "P=read.csv(paste0(wd_snATAC,'peak_celltype_500_all.csv'))\n",
    "P_all=as.character(P$X)\n",
    "P_beta=P_all[as.numeric(P$beta)>0]\n",
    "length(P_beta)\n",
    "keep_peak=(colnames(indata) %in% P_beta)\n",
    "\n",
    "data_use=indata[keep_cell,keep_peak]\n",
    "M_use=M[keep_cell,]\n",
    "dim(data_use)\n",
    "all(rownames(data_use)==as.character(M_use$index))"
   ]
  },
  {
   "cell_type": "code",
   "execution_count": 7,
   "metadata": {},
   "outputs": [
    {
     "data": {
      "text/html": [
       "98"
      ],
      "text/latex": [
       "98"
      ],
      "text/markdown": [
       "98"
      ],
      "text/plain": [
       "[1] 98"
      ]
     },
     "metadata": {},
     "output_type": "display_data"
    },
    {
     "data": {
      "text/html": [
       "58"
      ],
      "text/latex": [
       "58"
      ],
      "text/markdown": [
       "58"
      ],
      "text/plain": [
       "[1] 58"
      ]
     },
     "metadata": {},
     "output_type": "display_data"
    }
   ],
   "source": [
    "row_sum=Matrix::rowSums(data_use)\n",
    "col_sum=Matrix::colSums(data_use)\n",
    "min(row_sum)\n",
    "min(col_sum)\n"
   ]
  },
  {
   "cell_type": "code",
   "execution_count": 8,
   "metadata": {},
   "outputs": [
    {
     "data": {
      "text/html": [
       "<ol class=list-inline>\n",
       "\t<li>90290</li>\n",
       "\t<li>224573</li>\n",
       "</ol>\n"
      ],
      "text/latex": [
       "\\begin{enumerate*}\n",
       "\\item 90290\n",
       "\\item 224573\n",
       "\\end{enumerate*}\n"
      ],
      "text/markdown": [
       "1. 90290\n",
       "2. 224573\n",
       "\n",
       "\n"
      ],
      "text/plain": [
       "[1]  90290 224573"
      ]
     },
     "metadata": {},
     "output_type": "display_data"
    },
    {
     "data": {
      "text/html": [
       "TRUE"
      ],
      "text/latex": [
       "TRUE"
      ],
      "text/markdown": [
       "TRUE"
      ],
      "text/plain": [
       "[1] TRUE"
      ]
     },
     "metadata": {},
     "output_type": "display_data"
    }
   ],
   "source": [
    "## remove cells with <1000 reads and peaks counted in <100 cells\n",
    "keep_cell=(row_sum>1000)\n",
    "keep_peak=(col_sum>100)\n",
    "\n",
    "data_use=data_use[keep_cell,keep_peak]\n",
    "M_use=M_use[keep_cell,]\n",
    "dim(data_use)\n",
    "all(rownames(data_use)==as.character(M_use$index))"
   ]
  },
  {
   "cell_type": "markdown",
   "metadata": {},
   "source": [
    "# Model training and testing (each donor)"
   ]
  },
  {
   "cell_type": "code",
   "execution_count": 11,
   "metadata": {},
   "outputs": [
    {
     "data": {
      "text/html": [
       "<ol class=list-inline>\n",
       "\t<li>'JYH792'</li>\n",
       "\t<li>'MM110'</li>\n",
       "\t<li>'MM123'</li>\n",
       "\t<li>'MM124'</li>\n",
       "\t<li>'MM56'</li>\n",
       "\t<li>'MM59'</li>\n",
       "\t<li>'MM80'</li>\n",
       "\t<li>'MM86'</li>\n",
       "\t<li>'MM89'</li>\n",
       "\t<li>'MM95'</li>\n",
       "\t<li>'MM98'</li>\n",
       "\t<li>'MM108'</li>\n",
       "\t<li>'MM55'</li>\n",
       "\t<li>'MM61'</li>\n",
       "\t<li>'MM77'</li>\n",
       "\t<li>'MM78'</li>\n",
       "\t<li>'MM87'</li>\n",
       "\t<li>'MM93'</li>\n",
       "\t<li>'MM96'</li>\n",
       "\t<li>'JYH809'</li>\n",
       "\t<li>'MM109'</li>\n",
       "\t<li>'MM12'</li>\n",
       "\t<li>'MM120'</li>\n",
       "\t<li>'MM121'</li>\n",
       "\t<li>'MM122'</li>\n",
       "\t<li>'MM51'</li>\n",
       "\t<li>'MM54'</li>\n",
       "\t<li>'MM57'</li>\n",
       "\t<li>'MM60'</li>\n",
       "\t<li>'MM79'</li>\n",
       "\t<li>'MM81'</li>\n",
       "\t<li>'MM88'</li>\n",
       "\t<li>'MM94'</li>\n",
       "\t<li>'MM97'</li>\n",
       "</ol>\n"
      ],
      "text/latex": [
       "\\begin{enumerate*}\n",
       "\\item 'JYH792'\n",
       "\\item 'MM110'\n",
       "\\item 'MM123'\n",
       "\\item 'MM124'\n",
       "\\item 'MM56'\n",
       "\\item 'MM59'\n",
       "\\item 'MM80'\n",
       "\\item 'MM86'\n",
       "\\item 'MM89'\n",
       "\\item 'MM95'\n",
       "\\item 'MM98'\n",
       "\\item 'MM108'\n",
       "\\item 'MM55'\n",
       "\\item 'MM61'\n",
       "\\item 'MM77'\n",
       "\\item 'MM78'\n",
       "\\item 'MM87'\n",
       "\\item 'MM93'\n",
       "\\item 'MM96'\n",
       "\\item 'JYH809'\n",
       "\\item 'MM109'\n",
       "\\item 'MM12'\n",
       "\\item 'MM120'\n",
       "\\item 'MM121'\n",
       "\\item 'MM122'\n",
       "\\item 'MM51'\n",
       "\\item 'MM54'\n",
       "\\item 'MM57'\n",
       "\\item 'MM60'\n",
       "\\item 'MM79'\n",
       "\\item 'MM81'\n",
       "\\item 'MM88'\n",
       "\\item 'MM94'\n",
       "\\item 'MM97'\n",
       "\\end{enumerate*}\n"
      ],
      "text/markdown": [
       "1. 'JYH792'\n",
       "2. 'MM110'\n",
       "3. 'MM123'\n",
       "4. 'MM124'\n",
       "5. 'MM56'\n",
       "6. 'MM59'\n",
       "7. 'MM80'\n",
       "8. 'MM86'\n",
       "9. 'MM89'\n",
       "10. 'MM95'\n",
       "11. 'MM98'\n",
       "12. 'MM108'\n",
       "13. 'MM55'\n",
       "14. 'MM61'\n",
       "15. 'MM77'\n",
       "16. 'MM78'\n",
       "17. 'MM87'\n",
       "18. 'MM93'\n",
       "19. 'MM96'\n",
       "20. 'JYH809'\n",
       "21. 'MM109'\n",
       "22. 'MM12'\n",
       "23. 'MM120'\n",
       "24. 'MM121'\n",
       "25. 'MM122'\n",
       "26. 'MM51'\n",
       "27. 'MM54'\n",
       "28. 'MM57'\n",
       "29. 'MM60'\n",
       "30. 'MM79'\n",
       "31. 'MM81'\n",
       "32. 'MM88'\n",
       "33. 'MM94'\n",
       "34. 'MM97'\n",
       "\n",
       "\n"
      ],
      "text/plain": [
       " [1] \"JYH792\" \"MM110\"  \"MM123\"  \"MM124\"  \"MM56\"   \"MM59\"   \"MM80\"   \"MM86\"  \n",
       " [9] \"MM89\"   \"MM95\"   \"MM98\"   \"MM108\"  \"MM55\"   \"MM61\"   \"MM77\"   \"MM78\"  \n",
       "[17] \"MM87\"   \"MM93\"   \"MM96\"   \"JYH809\" \"MM109\"  \"MM12\"   \"MM120\"  \"MM121\" \n",
       "[25] \"MM122\"  \"MM51\"   \"MM54\"   \"MM57\"   \"MM60\"   \"MM79\"   \"MM81\"   \"MM88\"  \n",
       "[33] \"MM94\"   \"MM97\"  "
      ]
     },
     "metadata": {},
     "output_type": "display_data"
    }
   ],
   "source": [
    "## all donors\n",
    "donor_all=c(donor_ND,donor_PD,donor_T2D) #########\n",
    "donor_all"
   ]
  },
  {
   "cell_type": "code",
   "execution_count": 14,
   "metadata": {},
   "outputs": [
    {
     "name": "stdout",
     "output_type": "stream",
     "text": [
      "[1]\ttrain-merror:0.071781 \n",
      "[2]\ttrain-merror:0.043275 \n",
      "[3]\ttrain-merror:0.030988 \n",
      "[4]\ttrain-merror:0.024199 \n",
      "[5]\ttrain-merror:0.019461 \n",
      "[6]\ttrain-merror:0.014769 \n",
      "[7]\ttrain-merror:0.011810 \n",
      "[8]\ttrain-merror:0.009000 \n",
      "[9]\ttrain-merror:0.006982 \n",
      "[10]\ttrain-merror:0.005373 \n",
      "[11]\ttrain-merror:0.004409 \n",
      "[12]\ttrain-merror:0.003536 \n",
      "[13]\ttrain-merror:0.002709 \n",
      "[14]\ttrain-merror:0.001848 \n",
      "[15]\ttrain-merror:0.001428 \n",
      "[16]\ttrain-merror:0.000997 \n",
      "[17]\ttrain-merror:0.000771 \n",
      "[18]\ttrain-merror:0.000578 \n",
      "[19]\ttrain-merror:0.000397 \n",
      "[20]\ttrain-merror:0.000283 \n",
      "[21]\ttrain-merror:0.000249 \n",
      "[22]\ttrain-merror:0.000193 \n",
      "[23]\ttrain-merror:0.000113 \n",
      "[24]\ttrain-merror:0.000091 \n",
      "[25]\ttrain-merror:0.000023 \n",
      "[26]\ttrain-merror:0.000011 \n",
      "[27]\ttrain-merror:0.000000 \n",
      "[28]\ttrain-merror:0.000000 \n",
      "[29]\ttrain-merror:0.000000 \n",
      "[30]\ttrain-merror:0.000000 \n",
      "[31]\ttrain-merror:0.000000 \n",
      "[32]\ttrain-merror:0.000000 \n",
      "[33]\ttrain-merror:0.000000 \n",
      "[34]\ttrain-merror:0.000000 \n",
      "[35]\ttrain-merror:0.000000 \n",
      "[36]\ttrain-merror:0.000000 \n",
      "[37]\ttrain-merror:0.000000 \n",
      "[38]\ttrain-merror:0.000000 \n",
      "[39]\ttrain-merror:0.000000 \n",
      "[40]\ttrain-merror:0.000000 \n",
      "[41]\ttrain-merror:0.000000 \n",
      "[42]\ttrain-merror:0.000000 \n",
      "[43]\ttrain-merror:0.000000 \n",
      "[44]\ttrain-merror:0.000000 \n",
      "[45]\ttrain-merror:0.000000 \n",
      "[46]\ttrain-merror:0.000000 \n",
      "[47]\ttrain-merror:0.000000 \n",
      "[48]\ttrain-merror:0.000000 \n",
      "[49]\ttrain-merror:0.000000 \n",
      "[50]\ttrain-merror:0.000000 \n",
      "[51]\ttrain-merror:0.000000 \n",
      "[52]\ttrain-merror:0.000000 \n",
      "[53]\ttrain-merror:0.000000 \n",
      "[54]\ttrain-merror:0.000000 \n",
      "[55]\ttrain-merror:0.000000 \n",
      "[56]\ttrain-merror:0.000000 \n",
      "[57]\ttrain-merror:0.000000 \n",
      "[58]\ttrain-merror:0.000000 \n",
      "[59]\ttrain-merror:0.000000 \n",
      "[60]\ttrain-merror:0.000000 \n",
      "[61]\ttrain-merror:0.000000 \n",
      "[62]\ttrain-merror:0.000000 \n",
      "[63]\ttrain-merror:0.000000 \n",
      "[64]\ttrain-merror:0.000000 \n",
      "[65]\ttrain-merror:0.000000 \n",
      "[66]\ttrain-merror:0.000000 \n",
      "[67]\ttrain-merror:0.000000 \n",
      "[68]\ttrain-merror:0.000000 \n",
      "[69]\ttrain-merror:0.000000 \n",
      "[70]\ttrain-merror:0.000000 \n",
      "[71]\ttrain-merror:0.000000 \n",
      "[72]\ttrain-merror:0.000000 \n",
      "[73]\ttrain-merror:0.000000 \n",
      "[74]\ttrain-merror:0.000000 \n",
      "[75]\ttrain-merror:0.000000 \n",
      "[76]\ttrain-merror:0.000000 \n",
      "[77]\ttrain-merror:0.000000 \n",
      "[78]\ttrain-merror:0.000000 \n",
      "[79]\ttrain-merror:0.000000 \n",
      "[80]\ttrain-merror:0.000000 \n"
     ]
    }
   ],
   "source": [
    "## \n",
    "temp_ND=rep(-1,dim(M_use)[1])\n",
    "temp_PD=rep(-1,dim(M_use)[1])\n",
    "temp_T2D=rep(-1,dim(M_use)[1])\n",
    "\n",
    "## test one donor each time, and using amm remianding donors to train the model\n",
    "for (i in 1:length(donor_all)){\n",
    "    keep_train=(as.character(M_use$donor)!=donor_all[i])\n",
    "    train.x = data_use[keep_train,]\n",
    "    test.x = data_use[!keep_train,]\n",
    "    \n",
    "    train_disease=as.character(M_use$disease)\n",
    "    train_d=rep(0,length(train_disease))\n",
    "    train_d[train_disease=='T2D']=2   #######\n",
    "    train_d[train_disease=='PD']=1\n",
    "    train_d[train_disease=='ND']=0  #######\n",
    "    train.y = train_d[keep_train]\n",
    "    test.y = train_d[!keep_train]\n",
    "    \n",
    "    train.x1=as(train.x, \"dgCMatrix\")\n",
    "    bst <- xgboost(data = train.x1, label = train.y, max.depth = 60, eta = 0.2, nthread = 40, nrounds = 80, objective = \"multi:softprob\",num_class = 3)\n",
    "    test.x1=as(test.x, \"dgCMatrix\")\n",
    "    pred <- predict(bst, test.x1)\n",
    "    pre_M=matrix(pred, length(pred)/3, ncol=3, byrow=TRUE)\n",
    "\n",
    "    temp_ND[!keep_train]=pre_M[,1]\n",
    "    temp_PD[!keep_train]=pre_M[,2]\n",
    "    temp_T2D[!keep_train]=pre_M[,3]\n",
    "\n",
    "    M_use$pre_ND=temp_ND #######\n",
    "    M_use$pre_PD=temp_PD\n",
    "    M_use$pre_T2D=temp_T2D\n",
    "    \n",
    "    ## save results\n",
    "    #write.csv(M_use,paste0(wd_snATAC,'AI_beta_3group.csv')) #######\n",
    "\n",
    "}"
   ]
  },
  {
   "cell_type": "code",
   "execution_count": null,
   "metadata": {},
   "outputs": [],
   "source": []
  }
 ],
 "metadata": {
  "kernelspec": {
   "display_name": "R [conda env:root] *",
   "language": "R",
   "name": "conda-root-r"
  },
  "language_info": {
   "codemirror_mode": "r",
   "file_extension": ".r",
   "mimetype": "text/x-r-source",
   "name": "R",
   "pygments_lexer": "r",
   "version": "3.5.1"
  }
 },
 "nbformat": 4,
 "nbformat_minor": 2
}
