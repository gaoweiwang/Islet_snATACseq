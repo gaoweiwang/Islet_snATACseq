{
 "cells": [
  {
   "cell_type": "code",
   "execution_count": 2,
   "metadata": {},
   "outputs": [],
   "source": [
    "library(Matrix)\n",
    "library(xgboost)\n",
    "library(\"caret\")"
   ]
  },
  {
   "cell_type": "markdown",
   "metadata": {},
   "source": [
    "# Download data"
   ]
  },
  {
   "cell_type": "code",
   "execution_count": 1,
   "metadata": {},
   "outputs": [],
   "source": [
    "########### download raw data\n",
    "### Download 10x snATAC-seq raw data from NCBI Gene Expression Omnibus (GSE169453)\n",
    "### Download 10x multiome raw data from NCBI Gene Expression Omnibus (GSE200044)\n",
    "\n",
    "########### Download processed snATAC-seq and multiome data to reproduce figures\n",
    "### There several ways to download processed data.\n",
    "###1, download files less than 25M from github data folder: https://github.com/gaoweiwang/Islet_snATACseq\n",
    "### or, from figshare:\n",
    "### multiome: https://figshare.com/articles/dataset/processed_multiome_zip/19497665\n",
    "### snATACseq: https://figshare.com/articles/dataset/processed_snATACseq_zip/19497656\n",
    "\n",
    "###2, download large processed or intermeidate files:\n",
    "#snATAC-seq data (http://169.228.232.194/~mmallick/o/processed_snATACseq.tar.gz)\n",
    "#multiome data (http://169.228.232.194/~mmallick/o/processed_multiome.tar.gz)\n",
    "\n",
    "########### change working directory\n",
    "wd_snATAC = '/oasis/tscc/scratch/gaw006/snATACseq/processed/'\n",
    "wd_multiome = '/oasis/tscc/scratch/gaw006/multiome/processed/'"
   ]
  },
  {
   "cell_type": "markdown",
   "metadata": {},
   "source": [
    "# subcluster"
   ]
  },
  {
   "cell_type": "code",
   "execution_count": 1,
   "metadata": {},
   "outputs": [
    {
     "data": {
      "text/html": [
       "<ol class=list-inline>\n",
       "\t<li>218973</li>\n",
       "\t<li>404661</li>\n",
       "</ol>\n"
      ],
      "text/latex": [
       "\\begin{enumerate*}\n",
       "\\item 218973\n",
       "\\item 404661\n",
       "\\end{enumerate*}\n"
      ],
      "text/markdown": [
       "1. 218973\n",
       "2. 404661\n",
       "\n",
       "\n"
      ],
      "text/plain": [
       "[1] 218973 404661"
      ]
     },
     "metadata": {},
     "output_type": "display_data"
    },
    {
     "data": {
      "text/plain": [
       "4 x 4 sparse Matrix of class \"dgTMatrix\"\n",
       "                        1:100000097-100000597 1:100001226-100001726\n",
       "JYH792_AAACGAAAGCATTGGG                     .                     .\n",
       "JYH792_AAACGAAAGGGTCTGA                     .                     .\n",
       "JYH792_AAACGAAAGTAGACCG                     .                     .\n",
       "JYH792_AAACGAACAAATAGTG                     .                     .\n",
       "                        1:100009946-100010446 1:100014513-100015013\n",
       "JYH792_AAACGAAAGCATTGGG                     .                     .\n",
       "JYH792_AAACGAAAGGGTCTGA                     .                     .\n",
       "JYH792_AAACGAAAGTAGACCG                     .                     .\n",
       "JYH792_AAACGAACAAATAGTG                     .                     ."
      ]
     },
     "metadata": {},
     "output_type": "display_data"
    }
   ],
   "source": [
    "rm(list = ls())\n",
    "wd_snATAC = '/oasis/tscc/scratch/gaw006/snATACseq/processed/'\n",
    "\n",
    "# read in matrix data using the Matrix package\n",
    "indata <- Matrix::readMM(paste0(wd_snATAC,'snATAC_500bp.mtx'))  \n",
    "indata@x[indata@x > 0] <- 1\n",
    "dim(indata)\n",
    "\n",
    "# format cell info\n",
    "cellinfo <- read.table(paste0(wd_snATAC,'snATAC_500bp.barcodes'))\n",
    "cell_ID <- as.character(cellinfo$V1)\n",
    "\n",
    "# format peak info\n",
    "peakinfo <- read.table(paste0(wd_snATAC,'snATAC_500bp.regions'))\n",
    "peak_ID <- as.character(peakinfo$V1)\n",
    "\n",
    "rownames(indata)=cell_ID\n",
    "colnames(indata)=peak_ID\n",
    "\n",
    "indata[1:4,1:4]"
   ]
  },
  {
   "cell_type": "code",
   "execution_count": 4,
   "metadata": {},
   "outputs": [
    {
     "data": {
      "text/html": [
       "<ol class=list-inline>\n",
       "\t<li>218973</li>\n",
       "\t<li>395657</li>\n",
       "</ol>\n"
      ],
      "text/latex": [
       "\\begin{enumerate*}\n",
       "\\item 218973\n",
       "\\item 395657\n",
       "\\end{enumerate*}\n"
      ],
      "text/markdown": [
       "1. 218973\n",
       "2. 395657\n",
       "\n",
       "\n"
      ],
      "text/plain": [
       "[1] 218973 395657"
      ]
     },
     "metadata": {},
     "output_type": "display_data"
    },
    {
     "data": {
      "text/html": [
       "9004"
      ],
      "text/latex": [
       "9004"
      ],
      "text/markdown": [
       "9004"
      ],
      "text/plain": [
       "[1] 9004"
      ]
     },
     "metadata": {},
     "output_type": "display_data"
    }
   ],
   "source": [
    "keep_gender=!(grepl(\"X\", peak_ID) | grepl(\"Y\", peak_ID))\n",
    "indata=indata[,keep_gender]\n",
    "dim(indata)\n",
    "length(peak_ID[(grepl(\"X\", peak_ID) | grepl(\"Y\", peak_ID))])"
   ]
  },
  {
   "cell_type": "code",
   "execution_count": 5,
   "metadata": {},
   "outputs": [
    {
     "data": {
      "text/html": [
       "<table>\n",
       "<thead><tr><th scope=col>index</th><th scope=col>donor</th><th scope=col>duplicated_reads</th><th scope=col>frac_duplicated_reads</th><th scope=col>frac_mito_reads</th><th scope=col>frac_promoters_used</th><th scope=col>frac_reads_in_peaks</th><th scope=col>frac_reads_in_promoters</th><th scope=col>log10_n_counts</th><th scope=col>log10_n_peaks</th><th scope=col>⋯</th><th scope=col>reads_in_promoters</th><th scope=col>total_sequenced_reads</th><th scope=col>tss_used</th><th scope=col>unique_mito_reads</th><th scope=col>unique_usable_reads</th><th scope=col>leiden</th><th scope=col>n_count_500bp</th><th scope=col>n_peak_500bp</th><th scope=col>celltype</th><th scope=col>disease</th></tr></thead>\n",
       "<tbody>\n",
       "\t<tr><td>JYH792_AAACGAAAGCATTGGG</td><td>JYH792                 </td><td>1805                   </td><td>0.1117855              </td><td>0.0066071554           </td><td>0.09164685             </td><td>0.4976297              </td><td>0.2753131              </td><td>4.158000               </td><td>3.832892               </td><td>⋯                      </td><td>3891                   </td><td>16147                  </td><td>1773                   </td><td> 94                    </td><td>14133                  </td><td>4                      </td><td>7277                   </td><td>3541                   </td><td>alpha                  </td><td>ND                     </td></tr>\n",
       "\t<tr><td>JYH792_AAACGAAAGGGTCTGA</td><td>JYH792                 </td><td>1904                   </td><td>0.1234040              </td><td>0.0007437709           </td><td>0.06606017             </td><td>0.4494976              </td><td>0.2059546              </td><td>4.133858               </td><td>3.802979               </td><td>⋯                      </td><td>2767                   </td><td>15429                  </td><td>1278                   </td><td> 10                    </td><td>13435                  </td><td>3                      </td><td>6125                   </td><td>3008                   </td><td>beta                   </td><td>ND                     </td></tr>\n",
       "\t<tr><td>JYH792_AAACGAAAGTAGACCG</td><td>JYH792                 </td><td>2062                   </td><td>0.1829474              </td><td>0.0297566372           </td><td>0.03613150             </td><td>0.3530954              </td><td>0.1631513              </td><td>3.944828               </td><td>3.632963               </td><td>⋯                      </td><td>1431                   </td><td>11271                  </td><td> 699                   </td><td>269                    </td><td> 8771                  </td><td>4                      </td><td>3309                   </td><td>1712                   </td><td>alpha                  </td><td>ND                     </td></tr>\n",
       "</tbody>\n",
       "</table>\n"
      ],
      "text/latex": [
       "\\begin{tabular}{r|lllllllllllllllllllllll}\n",
       " index & donor & duplicated\\_reads & frac\\_duplicated\\_reads & frac\\_mito\\_reads & frac\\_promoters\\_used & frac\\_reads\\_in\\_peaks & frac\\_reads\\_in\\_promoters & log10\\_n\\_counts & log10\\_n\\_peaks & ⋯ & reads\\_in\\_promoters & total\\_sequenced\\_reads & tss\\_used & unique\\_mito\\_reads & unique\\_usable\\_reads & leiden & n\\_count\\_500bp & n\\_peak\\_500bp & celltype & disease\\\\\n",
       "\\hline\n",
       "\t JYH792\\_AAACGAAAGCATTGGG & JYH792                    & 1805                      & 0.1117855                 & 0.0066071554              & 0.09164685                & 0.4976297                 & 0.2753131                 & 4.158000                  & 3.832892                  & ⋯                         & 3891                      & 16147                     & 1773                      &  94                       & 14133                     & 4                         & 7277                      & 3541                      & alpha                     & ND                       \\\\\n",
       "\t JYH792\\_AAACGAAAGGGTCTGA & JYH792                    & 1904                      & 0.1234040                 & 0.0007437709              & 0.06606017                & 0.4494976                 & 0.2059546                 & 4.133858                  & 3.802979                  & ⋯                         & 2767                      & 15429                     & 1278                      &  10                       & 13435                     & 3                         & 6125                      & 3008                      & beta                      & ND                       \\\\\n",
       "\t JYH792\\_AAACGAAAGTAGACCG & JYH792                    & 2062                      & 0.1829474                 & 0.0297566372              & 0.03613150                & 0.3530954                 & 0.1631513                 & 3.944828                  & 3.632963                  & ⋯                         & 1431                      & 11271                     &  699                      & 269                       &  8771                     & 4                         & 3309                      & 1712                      & alpha                     & ND                       \\\\\n",
       "\\end{tabular}\n"
      ],
      "text/markdown": [
       "\n",
       "index | donor | duplicated_reads | frac_duplicated_reads | frac_mito_reads | frac_promoters_used | frac_reads_in_peaks | frac_reads_in_promoters | log10_n_counts | log10_n_peaks | ⋯ | reads_in_promoters | total_sequenced_reads | tss_used | unique_mito_reads | unique_usable_reads | leiden | n_count_500bp | n_peak_500bp | celltype | disease | \n",
       "|---|---|---|\n",
       "| JYH792_AAACGAAAGCATTGGG | JYH792                  | 1805                    | 0.1117855               | 0.0066071554            | 0.09164685              | 0.4976297               | 0.2753131               | 4.158000                | 3.832892                | ⋯                       | 3891                    | 16147                   | 1773                    |  94                     | 14133                   | 4                       | 7277                    | 3541                    | alpha                   | ND                      | \n",
       "| JYH792_AAACGAAAGGGTCTGA | JYH792                  | 1904                    | 0.1234040               | 0.0007437709            | 0.06606017              | 0.4494976               | 0.2059546               | 4.133858                | 3.802979                | ⋯                       | 2767                    | 15429                   | 1278                    |  10                     | 13435                   | 3                       | 6125                    | 3008                    | beta                    | ND                      | \n",
       "| JYH792_AAACGAAAGTAGACCG | JYH792                  | 2062                    | 0.1829474               | 0.0297566372            | 0.03613150              | 0.3530954               | 0.1631513               | 3.944828                | 3.632963                | ⋯                       | 1431                    | 11271                   |  699                    | 269                     |  8771                   | 4                       | 3309                    | 1712                    | alpha                   | ND                      | \n",
       "\n",
       "\n"
      ],
      "text/plain": [
       "  index                   donor  duplicated_reads frac_duplicated_reads\n",
       "1 JYH792_AAACGAAAGCATTGGG JYH792 1805             0.1117855            \n",
       "2 JYH792_AAACGAAAGGGTCTGA JYH792 1904             0.1234040            \n",
       "3 JYH792_AAACGAAAGTAGACCG JYH792 2062             0.1829474            \n",
       "  frac_mito_reads frac_promoters_used frac_reads_in_peaks\n",
       "1 0.0066071554    0.09164685          0.4976297          \n",
       "2 0.0007437709    0.06606017          0.4494976          \n",
       "3 0.0297566372    0.03613150          0.3530954          \n",
       "  frac_reads_in_promoters log10_n_counts log10_n_peaks ⋯ reads_in_promoters\n",
       "1 0.2753131               4.158000       3.832892      ⋯ 3891              \n",
       "2 0.2059546               4.133858       3.802979      ⋯ 2767              \n",
       "3 0.1631513               3.944828       3.632963      ⋯ 1431              \n",
       "  total_sequenced_reads tss_used unique_mito_reads unique_usable_reads leiden\n",
       "1 16147                 1773      94               14133               4     \n",
       "2 15429                 1278      10               13435               3     \n",
       "3 11271                  699     269                8771               4     \n",
       "  n_count_500bp n_peak_500bp celltype disease\n",
       "1 7277          3541         alpha    ND     \n",
       "2 6125          3008         beta     ND     \n",
       "3 3309          1712         alpha    ND     "
      ]
     },
     "metadata": {},
     "output_type": "display_data"
    }
   ],
   "source": [
    "#### barcode annotation\n",
    "M=read.csv(paste0(wd_snATAC,'barcode_info.csv'))\n",
    "\n",
    "M_donor=as.character(M$donor)\n",
    "M_leiden=as.numeric(M$leiden)\n",
    "\n",
    "C=read.csv(paste0(wd_snATAC,'meta_data.csv'))\n",
    "###subset\n",
    "C=C[(as.character(C$donor) %in% M_donor),]\n",
    "\n",
    "donor_all=as.character(C$donor)\n",
    "disease_all=as.character(C$Sample.Description.Name)\n",
    "donor_ND=donor_all[disease_all=='Non']\n",
    "donor_PD=donor_all[disease_all=='Pre']\n",
    "donor_T2D=donor_all[disease_all=='T2D']\n",
    "\n",
    "M_disease=M_donor\n",
    "M_disease[M_donor %in% donor_ND]='ND'\n",
    "M_disease[M_donor %in% donor_PD]='PD'\n",
    "M_disease[M_donor %in% donor_T2D]='T2D'\n",
    "\n",
    "M_celltype=M_donor\n",
    "alpha_ID=c(0,4,8)\n",
    "beta_ID=c(1,2,3,5)\n",
    "delta_ID=c(6)\n",
    "gamma_ID=c(10)\n",
    "acinar_ID=c(7)\n",
    "ductal_ID=c(9)\n",
    "stellate_ID=c(11)\n",
    "endothelial_ID=c(13)\n",
    "immune_ID=c(12)\n",
    "M_celltype[M_leiden %in% alpha_ID]='alpha'\n",
    "M_celltype[M_leiden %in% beta_ID]='beta'\n",
    "M_celltype[M_leiden %in% delta_ID]='delta'\n",
    "M_celltype[M_leiden %in% gamma_ID]='gamma'\n",
    "M_celltype[M_leiden %in% acinar_ID]='acinar'\n",
    "M_celltype[M_leiden %in% ductal_ID]='ductal'\n",
    "M_celltype[M_leiden %in% stellate_ID]='stellate'\n",
    "M_celltype[M_leiden %in% endothelial_ID]='endothelial'\n",
    "M_celltype[M_leiden %in% immune_ID]='immune'\n",
    "\n",
    "M$celltype=M_celltype\n",
    "M$disease=M_disease\n",
    "M[1:3,]"
   ]
  },
  {
   "cell_type": "code",
   "execution_count": 6,
   "metadata": {},
   "outputs": [
    {
     "data": {
      "text/html": [
       "TRUE"
      ],
      "text/latex": [
       "TRUE"
      ],
      "text/markdown": [
       "TRUE"
      ],
      "text/plain": [
       "[1] TRUE"
      ]
     },
     "metadata": {},
     "output_type": "display_data"
    },
    {
     "data": {
      "text/html": [
       "<ol class=list-inline>\n",
       "\t<li>218973</li>\n",
       "\t<li>395657</li>\n",
       "</ol>\n"
      ],
      "text/latex": [
       "\\begin{enumerate*}\n",
       "\\item 218973\n",
       "\\item 395657\n",
       "\\end{enumerate*}\n"
      ],
      "text/markdown": [
       "1. 218973\n",
       "2. 395657\n",
       "\n",
       "\n"
      ],
      "text/plain": [
       "[1] 218973 395657"
      ]
     },
     "metadata": {},
     "output_type": "display_data"
    },
    {
     "data": {
      "text/html": [
       "230573"
      ],
      "text/latex": [
       "230573"
      ],
      "text/markdown": [
       "230573"
      ],
      "text/plain": [
       "[1] 230573"
      ]
     },
     "metadata": {},
     "output_type": "display_data"
    },
    {
     "data": {
      "text/html": [
       "<ol class=list-inline>\n",
       "\t<li>92780</li>\n",
       "\t<li>224671</li>\n",
       "</ol>\n"
      ],
      "text/latex": [
       "\\begin{enumerate*}\n",
       "\\item 92780\n",
       "\\item 224671\n",
       "\\end{enumerate*}\n"
      ],
      "text/markdown": [
       "1. 92780\n",
       "2. 224671\n",
       "\n",
       "\n"
      ],
      "text/plain": [
       "[1]  92780 224671"
      ]
     },
     "metadata": {},
     "output_type": "display_data"
    },
    {
     "data": {
      "text/html": [
       "TRUE"
      ],
      "text/latex": [
       "TRUE"
      ],
      "text/markdown": [
       "TRUE"
      ],
      "text/plain": [
       "[1] TRUE"
      ]
     },
     "metadata": {},
     "output_type": "display_data"
    }
   ],
   "source": [
    "indata=indata[(rownames(indata) %in% as.character(M$index)),]\n",
    "all(as.character(M$index)==rownames(indata))\n",
    "dim(indata)\n",
    "\n",
    "########################################\n",
    "######### using beta cell as example\n",
    "keep_cell=(M$celltype=='beta')\n",
    "P=read.csv(paste0(wd_snATAC,'peak_celltype_500_all.csv'))\n",
    "P_all=as.character(P$X)\n",
    "P_beta=P_all[as.numeric(P$beta)>0]\n",
    "length(P_beta)\n",
    "keep_peak=(colnames(indata) %in% P_beta)\n",
    "\n",
    "data_use=indata[keep_cell,keep_peak]\n",
    "M_use=M[keep_cell,]\n",
    "dim(data_use)\n",
    "all(rownames(data_use)==as.character(M_use$index))"
   ]
  },
  {
   "cell_type": "code",
   "execution_count": 7,
   "metadata": {},
   "outputs": [
    {
     "data": {
      "text/html": [
       "98"
      ],
      "text/latex": [
       "98"
      ],
      "text/markdown": [
       "98"
      ],
      "text/plain": [
       "[1] 98"
      ]
     },
     "metadata": {},
     "output_type": "display_data"
    },
    {
     "data": {
      "text/html": [
       "58"
      ],
      "text/latex": [
       "58"
      ],
      "text/markdown": [
       "58"
      ],
      "text/plain": [
       "[1] 58"
      ]
     },
     "metadata": {},
     "output_type": "display_data"
    }
   ],
   "source": [
    "row_sum=Matrix::rowSums(data_use)\n",
    "col_sum=Matrix::colSums(data_use)\n",
    "min(row_sum)\n",
    "min(col_sum)"
   ]
  },
  {
   "cell_type": "code",
   "execution_count": 8,
   "metadata": {},
   "outputs": [
    {
     "data": {
      "text/html": [
       "<ol class=list-inline>\n",
       "\t<li>90290</li>\n",
       "\t<li>224573</li>\n",
       "</ol>\n"
      ],
      "text/latex": [
       "\\begin{enumerate*}\n",
       "\\item 90290\n",
       "\\item 224573\n",
       "\\end{enumerate*}\n"
      ],
      "text/markdown": [
       "1. 90290\n",
       "2. 224573\n",
       "\n",
       "\n"
      ],
      "text/plain": [
       "[1]  90290 224573"
      ]
     },
     "metadata": {},
     "output_type": "display_data"
    },
    {
     "data": {
      "text/html": [
       "TRUE"
      ],
      "text/latex": [
       "TRUE"
      ],
      "text/markdown": [
       "TRUE"
      ],
      "text/plain": [
       "[1] TRUE"
      ]
     },
     "metadata": {},
     "output_type": "display_data"
    }
   ],
   "source": [
    "## remove cells with <1000 reads and peaks counted in <100 cells\n",
    "keep_cell=(row_sum>1000)\n",
    "keep_peak=(col_sum>100)\n",
    "\n",
    "data_use=data_use[keep_cell,keep_peak]\n",
    "M_use=M_use[keep_cell,]\n",
    "dim(data_use)\n",
    "all(rownames(data_use)==as.character(M_use$index))"
   ]
  },
  {
   "cell_type": "markdown",
   "metadata": {},
   "source": [
    "## training and testing of each donor"
   ]
  },
  {
   "cell_type": "code",
   "execution_count": 11,
   "metadata": {},
   "outputs": [
    {
     "data": {
      "text/html": [
       "TRUE"
      ],
      "text/latex": [
       "TRUE"
      ],
      "text/markdown": [
       "TRUE"
      ],
      "text/plain": [
       "[1] TRUE"
      ]
     },
     "metadata": {},
     "output_type": "display_data"
    },
    {
     "data": {
      "text/html": [
       "<table>\n",
       "<thead><tr><th scope=col>X.1</th><th scope=col>X</th><th scope=col>index</th><th scope=col>donor</th><th scope=col>celltype</th><th scope=col>disease</th><th scope=col>subtype</th><th scope=col>subtype_probability</th><th scope=col>pre_disease</th></tr></thead>\n",
       "<tbody>\n",
       "\t<tr><td>1                      </td><td>1                      </td><td>JYH792_AAACGAAAGGGTCTGA</td><td>JYH792                 </td><td>beta                   </td><td>ND                     </td><td>beta_2                 </td><td>0.9991231561           </td><td>T2D                    </td></tr>\n",
       "\t<tr><td>2                      </td><td>2                      </td><td>JYH792_AAACGAAGTACAAATG</td><td>JYH792                 </td><td>beta                   </td><td>ND                     </td><td>beta_1                 </td><td>0.0002105963           </td><td>ND                     </td></tr>\n",
       "\t<tr><td>3                      </td><td>3                      </td><td>JYH792_AAACGAAGTTCCCAAA</td><td>JYH792                 </td><td>beta                   </td><td>ND                     </td><td>beta_1                 </td><td>0.0024496897           </td><td>ND                     </td></tr>\n",
       "</tbody>\n",
       "</table>\n"
      ],
      "text/latex": [
       "\\begin{tabular}{r|lllllllll}\n",
       " X.1 & X & index & donor & celltype & disease & subtype & subtype\\_probability & pre\\_disease\\\\\n",
       "\\hline\n",
       "\t 1                         & 1                         & JYH792\\_AAACGAAAGGGTCTGA & JYH792                    & beta                      & ND                        & beta\\_2                  & 0.9991231561              & T2D                      \\\\\n",
       "\t 2                         & 2                         & JYH792\\_AAACGAAGTACAAATG & JYH792                    & beta                      & ND                        & beta\\_1                  & 0.0002105963              & ND                       \\\\\n",
       "\t 3                         & 3                         & JYH792\\_AAACGAAGTTCCCAAA & JYH792                    & beta                      & ND                        & beta\\_1                  & 0.0024496897              & ND                       \\\\\n",
       "\\end{tabular}\n"
      ],
      "text/markdown": [
       "\n",
       "X.1 | X | index | donor | celltype | disease | subtype | subtype_probability | pre_disease | \n",
       "|---|---|---|\n",
       "| 1                       | 1                       | JYH792_AAACGAAAGGGTCTGA | JYH792                  | beta                    | ND                      | beta_2                  | 0.9991231561            | T2D                     | \n",
       "| 2                       | 2                       | JYH792_AAACGAAGTACAAATG | JYH792                  | beta                    | ND                      | beta_1                  | 0.0002105963            | ND                      | \n",
       "| 3                       | 3                       | JYH792_AAACGAAGTTCCCAAA | JYH792                  | beta                    | ND                      | beta_1                  | 0.0024496897            | ND                      | \n",
       "\n",
       "\n"
      ],
      "text/plain": [
       "  X.1 X index                   donor  celltype disease subtype\n",
       "1 1   1 JYH792_AAACGAAAGGGTCTGA JYH792 beta     ND      beta_2 \n",
       "2 2   2 JYH792_AAACGAAGTACAAATG JYH792 beta     ND      beta_1 \n",
       "3 3   3 JYH792_AAACGAAGTTCCCAAA JYH792 beta     ND      beta_1 \n",
       "  subtype_probability pre_disease\n",
       "1 0.9991231561        T2D        \n",
       "2 0.0002105963        ND         \n",
       "3 0.0024496897        ND         "
      ]
     },
     "metadata": {},
     "output_type": "display_data"
    }
   ],
   "source": [
    "M_new=read.csv(paste0(wd_snATAC,'AI_beta_subtype.csv'))\n",
    "all(as.character(M_use$index)==as.character(M_new$index))\n",
    "\n",
    "beta_subtype = as.character(M_new$subtype)\n",
    "disease_enrich = beta_subtype\n",
    "disease_enrich[beta_subtype == 'beta_1'] ='ND'\n",
    "disease_enrich[beta_subtype == 'beta_2'] ='T2D'\n",
    "\n",
    "M_new$pre_disease = disease_enrich\n",
    "\n",
    "M_new[1:3,]"
   ]
  },
  {
   "cell_type": "markdown",
   "metadata": {},
   "source": [
    "## HPAP"
   ]
  },
  {
   "cell_type": "code",
   "execution_count": 12,
   "metadata": {},
   "outputs": [
    {
     "data": {
      "text/html": [
       "<ol class=list-inline>\n",
       "\t<li>11588</li>\n",
       "\t<li>412113</li>\n",
       "</ol>\n"
      ],
      "text/latex": [
       "\\begin{enumerate*}\n",
       "\\item 11588\n",
       "\\item 412113\n",
       "\\end{enumerate*}\n"
      ],
      "text/markdown": [
       "1. 11588\n",
       "2. 412113\n",
       "\n",
       "\n"
      ],
      "text/plain": [
       "[1]  11588 412113"
      ]
     },
     "metadata": {},
     "output_type": "display_data"
    },
    {
     "data": {
      "text/html": [
       "9840"
      ],
      "text/latex": [
       "9840"
      ],
      "text/markdown": [
       "9840"
      ],
      "text/plain": [
       "[1] 9840"
      ]
     },
     "metadata": {},
     "output_type": "display_data"
    },
    {
     "data": {
      "text/html": [
       "230573"
      ],
      "text/latex": [
       "230573"
      ],
      "text/markdown": [
       "230573"
      ],
      "text/plain": [
       "[1] 230573"
      ]
     },
     "metadata": {},
     "output_type": "display_data"
    },
    {
     "data": {
      "text/html": [
       "<ol class=list-inline>\n",
       "\t<li>11588</li>\n",
       "\t<li>225524</li>\n",
       "</ol>\n"
      ],
      "text/latex": [
       "\\begin{enumerate*}\n",
       "\\item 11588\n",
       "\\item 225524\n",
       "\\end{enumerate*}\n"
      ],
      "text/markdown": [
       "1. 11588\n",
       "2. 225524\n",
       "\n",
       "\n"
      ],
      "text/plain": [
       "[1]  11588 225524"
      ]
     },
     "metadata": {},
     "output_type": "display_data"
    },
    {
     "data": {
      "text/html": [
       "TRUE"
      ],
      "text/latex": [
       "TRUE"
      ],
      "text/markdown": [
       "TRUE"
      ],
      "text/plain": [
       "[1] TRUE"
      ]
     },
     "metadata": {},
     "output_type": "display_data"
    },
    {
     "data": {
      "text/html": [
       "TRUE"
      ],
      "text/latex": [
       "TRUE"
      ],
      "text/markdown": [
       "TRUE"
      ],
      "text/plain": [
       "[1] TRUE"
      ]
     },
     "metadata": {},
     "output_type": "display_data"
    },
    {
     "data": {
      "text/html": [
       "<ol class=list-inline>\n",
       "\t<li>11261</li>\n",
       "\t<li>224573</li>\n",
       "</ol>\n"
      ],
      "text/latex": [
       "\\begin{enumerate*}\n",
       "\\item 11261\n",
       "\\item 224573\n",
       "\\end{enumerate*}\n"
      ],
      "text/markdown": [
       "1. 11261\n",
       "2. 224573\n",
       "\n",
       "\n"
      ],
      "text/plain": [
       "[1]  11261 224573"
      ]
     },
     "metadata": {},
     "output_type": "display_data"
    },
    {
     "data": {
      "text/html": [
       "TRUE"
      ],
      "text/latex": [
       "TRUE"
      ],
      "text/markdown": [
       "TRUE"
      ],
      "text/plain": [
       "[1] TRUE"
      ]
     },
     "metadata": {},
     "output_type": "display_data"
    }
   ],
   "source": [
    "## test data\n",
    "\n",
    "H_matrix <- Matrix::readMM(paste0(wd_snATAC,'HPAP_beta_500.mtx')) \n",
    "H_matrix@x[H_matrix@x > 0] <- 1\n",
    "dim(H_matrix)\n",
    "\n",
    "# format cell info\n",
    "cellinfo <- read.table(paste0(wd_snATAC,'HPAP_beta_500.barcodes'))\n",
    "cell_ID <- as.character(cellinfo$V1)\n",
    "\n",
    "# format peak info\n",
    "peakinfo <- read.table(paste0(wd_snATAC,'HPAP_beta_500.regions'))\n",
    "peak_ID <- as.character(peakinfo$V1)\n",
    "\n",
    "rownames(H_matrix)=cell_ID\n",
    "colnames(H_matrix)=peak_ID\n",
    "\n",
    "keep_gender=!(grepl(\"X\", peak_ID) | grepl(\"Y\", peak_ID))\n",
    "H_matrix=H_matrix[,keep_gender]\n",
    "length(peak_ID[(grepl(\"X\", peak_ID) | grepl(\"Y\", peak_ID))])\n",
    "\n",
    "\n",
    "P=read.csv(paste0(wd_snATAC,'peak_celltype_500_all.csv'))\n",
    "P_all=as.character(P$X)\n",
    "P_beta=P_all[as.numeric(P$beta)>0]\n",
    "length(P_beta)\n",
    "keep_peak=(colnames(H_matrix) %in% P_beta)\n",
    "H_use=H_matrix[,keep_peak]\n",
    "dim(H_use)\n",
    "\n",
    "Meta=read.csv(paste0(wd_snATAC,'HPAP_beta_barcode.csv'))\n",
    "all(rownames(H_use)==as.character(Meta$X))\n",
    "row_sum=rowSums(H_use)\n",
    "col_sum=colSums(H_use)\n",
    "keep_cell=(row_sum>1000)\n",
    "keep_peak=(colnames(H_use) %in% colnames(data_use))\n",
    "\n",
    "H_use=H_use[keep_cell,keep_peak]\n",
    "Meta=Meta[keep_cell,]\n",
    "all(rownames(H_use)==as.character(Meta$X))\n",
    "dim(H_use)\n",
    "\n",
    "name_test=colnames(H_use)\n",
    "H_use=H_use[,order(name_test)]\n",
    "all(colnames(H_use)==colnames(data_use))"
   ]
  },
  {
   "cell_type": "code",
   "execution_count": 13,
   "metadata": {},
   "outputs": [
    {
     "data": {
      "text/html": [
       "<ol class=list-inline>\n",
       "\t<li>11261</li>\n",
       "\t<li>26</li>\n",
       "</ol>\n"
      ],
      "text/latex": [
       "\\begin{enumerate*}\n",
       "\\item 11261\n",
       "\\item 26\n",
       "\\end{enumerate*}\n"
      ],
      "text/markdown": [
       "1. 11261\n",
       "2. 26\n",
       "\n",
       "\n"
      ],
      "text/plain": [
       "[1] 11261    26"
      ]
     },
     "metadata": {},
     "output_type": "display_data"
    },
    {
     "data": {
      "text/html": [
       "<ol class=list-inline>\n",
       "\t<li>11261</li>\n",
       "\t<li>224573</li>\n",
       "</ol>\n"
      ],
      "text/latex": [
       "\\begin{enumerate*}\n",
       "\\item 11261\n",
       "\\item 224573\n",
       "\\end{enumerate*}\n"
      ],
      "text/markdown": [
       "1. 11261\n",
       "2. 224573\n",
       "\n",
       "\n"
      ],
      "text/plain": [
       "[1]  11261 224573"
      ]
     },
     "metadata": {},
     "output_type": "display_data"
    }
   ],
   "source": [
    "dim(Meta)\n",
    "dim(H_use)"
   ]
  },
  {
   "cell_type": "code",
   "execution_count": 13,
   "metadata": {},
   "outputs": [
    {
     "data": {
      "text/html": [
       "<ol class=list-inline>\n",
       "\t<li>48568</li>\n",
       "\t<li>224573</li>\n",
       "</ol>\n"
      ],
      "text/latex": [
       "\\begin{enumerate*}\n",
       "\\item 48568\n",
       "\\item 224573\n",
       "\\end{enumerate*}\n"
      ],
      "text/markdown": [
       "1. 48568\n",
       "2. 224573\n",
       "\n",
       "\n"
      ],
      "text/plain": [
       "[1]  48568 224573"
      ]
     },
     "metadata": {},
     "output_type": "display_data"
    },
    {
     "data": {
      "text/html": [
       "48568"
      ],
      "text/latex": [
       "48568"
      ],
      "text/markdown": [
       "48568"
      ],
      "text/plain": [
       "[1] 48568"
      ]
     },
     "metadata": {},
     "output_type": "display_data"
    },
    {
     "name": "stdout",
     "output_type": "stream",
     "text": [
      "[1]\ttrain-error:0.001977 \n",
      "[2]\ttrain-error:0.001400 \n",
      "[3]\ttrain-error:0.001153 \n",
      "[4]\ttrain-error:0.000700 \n",
      "[5]\ttrain-error:0.000721 \n",
      "[6]\ttrain-error:0.000535 \n",
      "[7]\ttrain-error:0.000371 \n",
      "[8]\ttrain-error:0.000350 \n",
      "[9]\ttrain-error:0.000329 \n",
      "[10]\ttrain-error:0.000247 \n",
      "[11]\ttrain-error:0.000206 \n",
      "[12]\ttrain-error:0.000206 \n",
      "[13]\ttrain-error:0.000185 \n",
      "[14]\ttrain-error:0.000165 \n",
      "[15]\ttrain-error:0.000165 \n",
      "[16]\ttrain-error:0.000144 \n",
      "[17]\ttrain-error:0.000124 \n",
      "[18]\ttrain-error:0.000124 \n",
      "[19]\ttrain-error:0.000082 \n",
      "[20]\ttrain-error:0.000082 \n",
      "[21]\ttrain-error:0.000082 \n",
      "[22]\ttrain-error:0.000041 \n",
      "[23]\ttrain-error:0.000021 \n",
      "[24]\ttrain-error:0.000021 \n",
      "[25]\ttrain-error:0.000021 \n",
      "[26]\ttrain-error:0.000021 \n",
      "[27]\ttrain-error:0.000021 \n",
      "[28]\ttrain-error:0.000021 \n",
      "[29]\ttrain-error:0.000021 \n",
      "[30]\ttrain-error:0.000000 \n",
      "[31]\ttrain-error:0.000000 \n",
      "[32]\ttrain-error:0.000000 \n",
      "[33]\ttrain-error:0.000000 \n",
      "[34]\ttrain-error:0.000000 \n",
      "[35]\ttrain-error:0.000000 \n",
      "[36]\ttrain-error:0.000000 \n",
      "[37]\ttrain-error:0.000000 \n",
      "[38]\ttrain-error:0.000000 \n",
      "[39]\ttrain-error:0.000000 \n",
      "[40]\ttrain-error:0.000000 \n",
      "[41]\ttrain-error:0.000000 \n",
      "[42]\ttrain-error:0.000000 \n",
      "[43]\ttrain-error:0.000000 \n",
      "[44]\ttrain-error:0.000000 \n",
      "[45]\ttrain-error:0.000000 \n",
      "[46]\ttrain-error:0.000000 \n",
      "[47]\ttrain-error:0.000000 \n",
      "[48]\ttrain-error:0.000000 \n",
      "[49]\ttrain-error:0.000000 \n",
      "[50]\ttrain-error:0.000000 \n",
      "[51]\ttrain-error:0.000000 \n",
      "[52]\ttrain-error:0.000000 \n",
      "[53]\ttrain-error:0.000000 \n",
      "[54]\ttrain-error:0.000000 \n",
      "[55]\ttrain-error:0.000000 \n",
      "[56]\ttrain-error:0.000000 \n",
      "[57]\ttrain-error:0.000000 \n",
      "[58]\ttrain-error:0.000000 \n",
      "[59]\ttrain-error:0.000000 \n",
      "[60]\ttrain-error:0.000000 \n",
      "[61]\ttrain-error:0.000000 \n",
      "[62]\ttrain-error:0.000000 \n",
      "[63]\ttrain-error:0.000000 \n",
      "[64]\ttrain-error:0.000000 \n",
      "[65]\ttrain-error:0.000000 \n",
      "[66]\ttrain-error:0.000000 \n",
      "[67]\ttrain-error:0.000000 \n",
      "[68]\ttrain-error:0.000000 \n",
      "[69]\ttrain-error:0.000000 \n",
      "[70]\ttrain-error:0.000000 \n",
      "[71]\ttrain-error:0.000000 \n",
      "[72]\ttrain-error:0.000000 \n",
      "[73]\ttrain-error:0.000000 \n",
      "[74]\ttrain-error:0.000000 \n",
      "[75]\ttrain-error:0.000000 \n",
      "[76]\ttrain-error:0.000000 \n",
      "[77]\ttrain-error:0.000000 \n",
      "[78]\ttrain-error:0.000000 \n",
      "[79]\ttrain-error:0.000000 \n",
      "[80]\ttrain-error:0.000000 \n"
     ]
    }
   ],
   "source": [
    "temp_label=rep('no',dim(Meta)[1])\n",
    "\n",
    "keep_2=(as.character(M_new$disease)!='PD')\n",
    "keep_3=(as.character(M_new$disease)==as.character(M_new$pre_disease))\n",
    "keep_train=(keep_2 & keep_3)\n",
    "train.x = data_use[keep_train,]\n",
    "dim(train.x)\n",
    "\n",
    "train_disease=as.character(M_new$disease)\n",
    "train_d=rep(0,length(train_disease))\n",
    "train_d[train_disease=='T2D']=1   #######\n",
    "train_d[train_disease=='ND']=0  #######\n",
    "train.y = train_d[keep_train]\n",
    "length(train.y)\n",
    "\n",
    "train.x1=as(train.x, \"dgCMatrix\")\n",
    "bst <- xgboost(data = train.x1, label = train.y, max.depth = 60, eta = 0.2, nthread = 24, nrounds = 80, objective = \"binary:logistic\")\n",
    "    "
   ]
  },
  {
   "cell_type": "code",
   "execution_count": 14,
   "metadata": {},
   "outputs": [],
   "source": [
    "## or load the model\n",
    "load(paste0(wd_snATAC,'bst.Rdata'))"
   ]
  },
  {
   "cell_type": "code",
   "execution_count": 15,
   "metadata": {},
   "outputs": [
    {
     "data": {
      "text/html": [
       "<table>\n",
       "<thead><tr><th scope=col>X.1</th><th scope=col>X</th><th scope=col>unique_usable_reads</th><th scope=col>total_sequenced_reads</th><th scope=col>duplicated_reads</th><th scope=col>unique_mito_reads</th><th scope=col>reads_in_peaks</th><th scope=col>reads_in_promoters</th><th scope=col>tss_used</th><th scope=col>frac_reads_in_peaks</th><th scope=col>⋯</th><th scope=col>n_counts</th><th scope=col>batch</th><th scope=col>donor</th><th scope=col>norm_log_counts</th><th scope=col>log10_usable_counts</th><th scope=col>log_usable_counts</th><th scope=col>leiden</th><th scope=col>cluster</th><th scope=col>subtype_probability</th><th scope=col>subtype</th></tr></thead>\n",
       "<tbody>\n",
       "\t<tr><td> 6                      </td><td>HPAP035_AAACGAATCACACGTA</td><td>101548                  </td><td>215711                  </td><td>111268                  </td><td>2217                    </td><td> 66863                  </td><td>25074                   </td><td> 7252                   </td><td>0.6584374               </td><td>⋯                       </td><td>103307                  </td><td>0                       </td><td>HPAP035                 </td><td>7.173991                </td><td>4.129754                </td><td> 9.509110               </td><td>0                       </td><td>0                       </td><td>0.0012818115            </td><td>beta_1                  </td></tr>\n",
       "\t<tr><td> 9                      </td><td>HPAP035_AAACGAATCTTAAGCG</td><td>207243                  </td><td>460996                  </td><td>252758                  </td><td>  45                    </td><td>129281                  </td><td>52646                   </td><td>10171                   </td><td>0.6238136               </td><td>⋯                       </td><td>211815                  </td><td>0                       </td><td>HPAP035                 </td><td>7.138429                </td><td>4.426137                </td><td>10.191557               </td><td>0                       </td><td>0                       </td><td>0.0152109042            </td><td>beta_1                  </td></tr>\n",
       "\t<tr><td>11                      </td><td>HPAP035_AAACTCGGTATATGGA</td><td> 47859                  </td><td>108112                  </td><td> 59805                  </td><td> 199                    </td><td> 32913                  </td><td>14041                   </td><td> 4875                   </td><td>0.6877076               </td><td>⋯                       </td><td> 48663                  </td><td>0                       </td><td>HPAP035                 </td><td>7.258825                </td><td>3.839667                </td><td> 8.841159               </td><td>0                       </td><td>0                       </td><td>0.0003714848            </td><td>beta_1                  </td></tr>\n",
       "\t<tr><td>23                      </td><td>HPAP035_AAAGATGTCGGTGATT</td><td> 57050                  </td><td>138030                  </td><td> 79660                  </td><td>1067                    </td><td> 38053                  </td><td>11811                   </td><td> 4443                   </td><td>0.6670114               </td><td>⋯                       </td><td> 58153                  </td><td>0                       </td><td>HPAP035                 </td><td>7.073844                </td><td>3.836704                </td><td> 8.834337               </td><td>0                       </td><td>0                       </td><td>0.9864307642            </td><td>beta_2                  </td></tr>\n",
       "\t<tr><td>30                      </td><td>HPAP035_AAAGGGCAGAAGAGTG</td><td> 60013                  </td><td>153377                  </td><td> 91237                  </td><td>1824                    </td><td> 41381                  </td><td>15088                   </td><td> 5355                   </td><td>0.6895339               </td><td>⋯                       </td><td> 60884                  </td><td>0                       </td><td>HPAP035                 </td><td>7.230316                </td><td>3.924589                </td><td> 9.036701               </td><td>0                       </td><td>0                       </td><td>0.0003594154            </td><td>beta_1                  </td></tr>\n",
       "\t<tr><td>32                      </td><td>HPAP035_AAAGGGCCAAAGAAGG</td><td>125610                  </td><td>287446                  </td><td>158946                  </td><td>2217                    </td><td> 79159                  </td><td>29096                   </td><td> 8186                   </td><td>0.6301966               </td><td>⋯                       </td><td>128584                  </td><td>0                       </td><td>HPAP035                 </td><td>7.062808                </td><td>4.176525                </td><td> 9.616805               </td><td>0                       </td><td>0                       </td><td>0.0059291855            </td><td>beta_1                  </td></tr>\n",
       "\t<tr><td>33                      </td><td>HPAP035_AAAGGGCCAATGGCAG</td><td> 67178                  </td><td>234741                  </td><td>164585                  </td><td>2663                    </td><td> 47712                  </td><td>15186                   </td><td> 5119                   </td><td>0.7102325               </td><td>⋯                       </td><td> 68397                  </td><td>0                       </td><td>HPAP035                 </td><td>7.166784                </td><td>3.947532                </td><td> 9.089528               </td><td>0                       </td><td>0                       </td><td>0.0004194723            </td><td>beta_1                  </td></tr>\n",
       "\t<tr><td>34                      </td><td>HPAP035_AAAGGGCCATCATAGC</td><td> 70666                  </td><td>161143                  </td><td> 89526                  </td><td> 547                    </td><td> 47345                  </td><td>17025                   </td><td> 5647                   </td><td>0.6699827               </td><td>⋯                       </td><td> 72134                  </td><td>0                       </td><td>HPAP035                 </td><td>7.108043                </td><td>3.945124                </td><td> 9.083983               </td><td>0                       </td><td>0                       </td><td>0.0002662277            </td><td>beta_1                  </td></tr>\n",
       "\t<tr><td>35                      </td><td>HPAP035_AAAGGGCCATCGTGAT</td><td> 35879                  </td><td> 87290                  </td><td> 51054                  </td><td> 191                    </td><td> 23926                  </td><td> 9109                   </td><td> 3624                   </td><td>0.6668525               </td><td>⋯                       </td><td> 36505                  </td><td>0                       </td><td>HPAP035                 </td><td>7.175447                </td><td>3.678609                </td><td> 8.470311               </td><td>0                       </td><td>0                       </td><td>0.0005264148            </td><td>beta_1                  </td></tr>\n",
       "\t<tr><td>40                      </td><td>HPAP035_AAATGAGCACGTTAGT</td><td> 92395                  </td><td>205943                  </td><td>112160                  </td><td> 938                    </td><td> 57737                  </td><td>19885                   </td><td> 6525                   </td><td>0.6248931               </td><td>⋯                       </td><td> 94021                  </td><td>0                       </td><td>HPAP035                 </td><td>7.104812                </td><td>4.058806                </td><td> 9.345745               </td><td>0                       </td><td>0                       </td><td>0.8699650168            </td><td>beta_2                  </td></tr>\n",
       "</tbody>\n",
       "</table>\n"
      ],
      "text/latex": [
       "\\begin{tabular}{r|llllllllllllllllllllllllllll}\n",
       " X.1 & X & unique\\_usable\\_reads & total\\_sequenced\\_reads & duplicated\\_reads & unique\\_mito\\_reads & reads\\_in\\_peaks & reads\\_in\\_promoters & tss\\_used & frac\\_reads\\_in\\_peaks & ⋯ & n\\_counts & batch & donor & norm\\_log\\_counts & log10\\_usable\\_counts & log\\_usable\\_counts & leiden & cluster & subtype\\_probability & subtype\\\\\n",
       "\\hline\n",
       "\t  6                         & HPAP035\\_AAACGAATCACACGTA & 101548                     & 215711                     & 111268                     & 2217                       &  66863                     & 25074                      &  7252                      & 0.6584374                  & ⋯                          & 103307                     & 0                          & HPAP035                    & 7.173991                   & 4.129754                   &  9.509110                  & 0                          & 0                          & 0.0012818115               & beta\\_1                  \\\\\n",
       "\t  9                         & HPAP035\\_AAACGAATCTTAAGCG & 207243                     & 460996                     & 252758                     &   45                       & 129281                     & 52646                      & 10171                      & 0.6238136                  & ⋯                          & 211815                     & 0                          & HPAP035                    & 7.138429                   & 4.426137                   & 10.191557                  & 0                          & 0                          & 0.0152109042               & beta\\_1                  \\\\\n",
       "\t 11                         & HPAP035\\_AAACTCGGTATATGGA &  47859                     & 108112                     &  59805                     &  199                       &  32913                     & 14041                      &  4875                      & 0.6877076                  & ⋯                          &  48663                     & 0                          & HPAP035                    & 7.258825                   & 3.839667                   &  8.841159                  & 0                          & 0                          & 0.0003714848               & beta\\_1                  \\\\\n",
       "\t 23                         & HPAP035\\_AAAGATGTCGGTGATT &  57050                     & 138030                     &  79660                     & 1067                       &  38053                     & 11811                      &  4443                      & 0.6670114                  & ⋯                          &  58153                     & 0                          & HPAP035                    & 7.073844                   & 3.836704                   &  8.834337                  & 0                          & 0                          & 0.9864307642               & beta\\_2                  \\\\\n",
       "\t 30                         & HPAP035\\_AAAGGGCAGAAGAGTG &  60013                     & 153377                     &  91237                     & 1824                       &  41381                     & 15088                      &  5355                      & 0.6895339                  & ⋯                          &  60884                     & 0                          & HPAP035                    & 7.230316                   & 3.924589                   &  9.036701                  & 0                          & 0                          & 0.0003594154               & beta\\_1                  \\\\\n",
       "\t 32                         & HPAP035\\_AAAGGGCCAAAGAAGG & 125610                     & 287446                     & 158946                     & 2217                       &  79159                     & 29096                      &  8186                      & 0.6301966                  & ⋯                          & 128584                     & 0                          & HPAP035                    & 7.062808                   & 4.176525                   &  9.616805                  & 0                          & 0                          & 0.0059291855               & beta\\_1                  \\\\\n",
       "\t 33                         & HPAP035\\_AAAGGGCCAATGGCAG &  67178                     & 234741                     & 164585                     & 2663                       &  47712                     & 15186                      &  5119                      & 0.7102325                  & ⋯                          &  68397                     & 0                          & HPAP035                    & 7.166784                   & 3.947532                   &  9.089528                  & 0                          & 0                          & 0.0004194723               & beta\\_1                  \\\\\n",
       "\t 34                         & HPAP035\\_AAAGGGCCATCATAGC &  70666                     & 161143                     &  89526                     &  547                       &  47345                     & 17025                      &  5647                      & 0.6699827                  & ⋯                          &  72134                     & 0                          & HPAP035                    & 7.108043                   & 3.945124                   &  9.083983                  & 0                          & 0                          & 0.0002662277               & beta\\_1                  \\\\\n",
       "\t 35                         & HPAP035\\_AAAGGGCCATCGTGAT &  35879                     &  87290                     &  51054                     &  191                       &  23926                     &  9109                      &  3624                      & 0.6668525                  & ⋯                          &  36505                     & 0                          & HPAP035                    & 7.175447                   & 3.678609                   &  8.470311                  & 0                          & 0                          & 0.0005264148               & beta\\_1                  \\\\\n",
       "\t 40                         & HPAP035\\_AAATGAGCACGTTAGT &  92395                     & 205943                     & 112160                     &  938                       &  57737                     & 19885                      &  6525                      & 0.6248931                  & ⋯                          &  94021                     & 0                          & HPAP035                    & 7.104812                   & 4.058806                   &  9.345745                  & 0                          & 0                          & 0.8699650168               & beta\\_2                  \\\\\n",
       "\\end{tabular}\n"
      ],
      "text/markdown": [
       "\n",
       "X.1 | X | unique_usable_reads | total_sequenced_reads | duplicated_reads | unique_mito_reads | reads_in_peaks | reads_in_promoters | tss_used | frac_reads_in_peaks | ⋯ | n_counts | batch | donor | norm_log_counts | log10_usable_counts | log_usable_counts | leiden | cluster | subtype_probability | subtype | \n",
       "|---|---|---|---|---|---|---|---|---|---|\n",
       "|  6                       | HPAP035_AAACGAATCACACGTA | 101548                   | 215711                   | 111268                   | 2217                     |  66863                   | 25074                    |  7252                    | 0.6584374                | ⋯                        | 103307                   | 0                        | HPAP035                  | 7.173991                 | 4.129754                 |  9.509110                | 0                        | 0                        | 0.0012818115             | beta_1                   | \n",
       "|  9                       | HPAP035_AAACGAATCTTAAGCG | 207243                   | 460996                   | 252758                   |   45                     | 129281                   | 52646                    | 10171                    | 0.6238136                | ⋯                        | 211815                   | 0                        | HPAP035                  | 7.138429                 | 4.426137                 | 10.191557                | 0                        | 0                        | 0.0152109042             | beta_1                   | \n",
       "| 11                       | HPAP035_AAACTCGGTATATGGA |  47859                   | 108112                   |  59805                   |  199                     |  32913                   | 14041                    |  4875                    | 0.6877076                | ⋯                        |  48663                   | 0                        | HPAP035                  | 7.258825                 | 3.839667                 |  8.841159                | 0                        | 0                        | 0.0003714848             | beta_1                   | \n",
       "| 23                       | HPAP035_AAAGATGTCGGTGATT |  57050                   | 138030                   |  79660                   | 1067                     |  38053                   | 11811                    |  4443                    | 0.6670114                | ⋯                        |  58153                   | 0                        | HPAP035                  | 7.073844                 | 3.836704                 |  8.834337                | 0                        | 0                        | 0.9864307642             | beta_2                   | \n",
       "| 30                       | HPAP035_AAAGGGCAGAAGAGTG |  60013                   | 153377                   |  91237                   | 1824                     |  41381                   | 15088                    |  5355                    | 0.6895339                | ⋯                        |  60884                   | 0                        | HPAP035                  | 7.230316                 | 3.924589                 |  9.036701                | 0                        | 0                        | 0.0003594154             | beta_1                   | \n",
       "| 32                       | HPAP035_AAAGGGCCAAAGAAGG | 125610                   | 287446                   | 158946                   | 2217                     |  79159                   | 29096                    |  8186                    | 0.6301966                | ⋯                        | 128584                   | 0                        | HPAP035                  | 7.062808                 | 4.176525                 |  9.616805                | 0                        | 0                        | 0.0059291855             | beta_1                   | \n",
       "| 33                       | HPAP035_AAAGGGCCAATGGCAG |  67178                   | 234741                   | 164585                   | 2663                     |  47712                   | 15186                    |  5119                    | 0.7102325                | ⋯                        |  68397                   | 0                        | HPAP035                  | 7.166784                 | 3.947532                 |  9.089528                | 0                        | 0                        | 0.0004194723             | beta_1                   | \n",
       "| 34                       | HPAP035_AAAGGGCCATCATAGC |  70666                   | 161143                   |  89526                   |  547                     |  47345                   | 17025                    |  5647                    | 0.6699827                | ⋯                        |  72134                   | 0                        | HPAP035                  | 7.108043                 | 3.945124                 |  9.083983                | 0                        | 0                        | 0.0002662277             | beta_1                   | \n",
       "| 35                       | HPAP035_AAAGGGCCATCGTGAT |  35879                   |  87290                   |  51054                   |  191                     |  23926                   |  9109                    |  3624                    | 0.6668525                | ⋯                        |  36505                   | 0                        | HPAP035                  | 7.175447                 | 3.678609                 |  8.470311                | 0                        | 0                        | 0.0005264148             | beta_1                   | \n",
       "| 40                       | HPAP035_AAATGAGCACGTTAGT |  92395                   | 205943                   | 112160                   |  938                     |  57737                   | 19885                    |  6525                    | 0.6248931                | ⋯                        |  94021                   | 0                        | HPAP035                  | 7.104812                 | 4.058806                 |  9.345745                | 0                        | 0                        | 0.8699650168             | beta_2                   | \n",
       "\n",
       "\n"
      ],
      "text/plain": [
       "   X.1 X                        unique_usable_reads total_sequenced_reads\n",
       "1   6  HPAP035_AAACGAATCACACGTA 101548              215711               \n",
       "2   9  HPAP035_AAACGAATCTTAAGCG 207243              460996               \n",
       "3  11  HPAP035_AAACTCGGTATATGGA  47859              108112               \n",
       "4  23  HPAP035_AAAGATGTCGGTGATT  57050              138030               \n",
       "5  30  HPAP035_AAAGGGCAGAAGAGTG  60013              153377               \n",
       "6  32  HPAP035_AAAGGGCCAAAGAAGG 125610              287446               \n",
       "7  33  HPAP035_AAAGGGCCAATGGCAG  67178              234741               \n",
       "8  34  HPAP035_AAAGGGCCATCATAGC  70666              161143               \n",
       "9  35  HPAP035_AAAGGGCCATCGTGAT  35879               87290               \n",
       "10 40  HPAP035_AAATGAGCACGTTAGT  92395              205943               \n",
       "   duplicated_reads unique_mito_reads reads_in_peaks reads_in_promoters\n",
       "1  111268           2217               66863         25074             \n",
       "2  252758             45              129281         52646             \n",
       "3   59805            199               32913         14041             \n",
       "4   79660           1067               38053         11811             \n",
       "5   91237           1824               41381         15088             \n",
       "6  158946           2217               79159         29096             \n",
       "7  164585           2663               47712         15186             \n",
       "8   89526            547               47345         17025             \n",
       "9   51054            191               23926          9109             \n",
       "10 112160            938               57737         19885             \n",
       "   tss_used frac_reads_in_peaks ⋯ n_counts batch donor   norm_log_counts\n",
       "1   7252    0.6584374           ⋯ 103307   0     HPAP035 7.173991       \n",
       "2  10171    0.6238136           ⋯ 211815   0     HPAP035 7.138429       \n",
       "3   4875    0.6877076           ⋯  48663   0     HPAP035 7.258825       \n",
       "4   4443    0.6670114           ⋯  58153   0     HPAP035 7.073844       \n",
       "5   5355    0.6895339           ⋯  60884   0     HPAP035 7.230316       \n",
       "6   8186    0.6301966           ⋯ 128584   0     HPAP035 7.062808       \n",
       "7   5119    0.7102325           ⋯  68397   0     HPAP035 7.166784       \n",
       "8   5647    0.6699827           ⋯  72134   0     HPAP035 7.108043       \n",
       "9   3624    0.6668525           ⋯  36505   0     HPAP035 7.175447       \n",
       "10  6525    0.6248931           ⋯  94021   0     HPAP035 7.104812       \n",
       "   log10_usable_counts log_usable_counts leiden cluster subtype_probability\n",
       "1  4.129754             9.509110         0      0       0.0012818115       \n",
       "2  4.426137            10.191557         0      0       0.0152109042       \n",
       "3  3.839667             8.841159         0      0       0.0003714848       \n",
       "4  3.836704             8.834337         0      0       0.9864307642       \n",
       "5  3.924589             9.036701         0      0       0.0003594154       \n",
       "6  4.176525             9.616805         0      0       0.0059291855       \n",
       "7  3.947532             9.089528         0      0       0.0004194723       \n",
       "8  3.945124             9.083983         0      0       0.0002662277       \n",
       "9  3.678609             8.470311         0      0       0.0005264148       \n",
       "10 4.058806             9.345745         0      0       0.8699650168       \n",
       "   subtype\n",
       "1  beta_1 \n",
       "2  beta_1 \n",
       "3  beta_1 \n",
       "4  beta_2 \n",
       "5  beta_1 \n",
       "6  beta_1 \n",
       "7  beta_1 \n",
       "8  beta_1 \n",
       "9  beta_1 \n",
       "10 beta_2 "
      ]
     },
     "metadata": {},
     "output_type": "display_data"
    }
   ],
   "source": [
    "test.x=H_use\n",
    "test.x1=as(test.x, \"dgCMatrix\")\n",
    "pred <- predict(bst, test.x1)\n",
    "\n",
    "pred_label=as.numeric(pred > 0.5)\n",
    "pred_label1=pred_label\n",
    "pred_label1[pred_label==0]='beta_1' #######\n",
    "pred_label1[pred_label==1]='beta_2' #######\n",
    "\n",
    "Meta$subtype_probability=pred\n",
    "Meta$subtype=pred_label1 #######\n",
    "Meta[1:10,]"
   ]
  },
  {
   "cell_type": "code",
   "execution_count": 15,
   "metadata": {},
   "outputs": [],
   "source": [
    "# save results\n",
    "#write.csv(Meta,paste0(wd_snATAC,'AI_HPAP_beta.csv')) #######\n"
   ]
  }
 ],
 "metadata": {
  "kernelspec": {
   "display_name": "R [conda env:root] *",
   "language": "R",
   "name": "conda-root-r"
  },
  "language_info": {
   "codemirror_mode": "r",
   "file_extension": ".r",
   "mimetype": "text/x-r-source",
   "name": "R",
   "pygments_lexer": "r",
   "version": "3.5.1"
  }
 },
 "nbformat": 4,
 "nbformat_minor": 2
}
