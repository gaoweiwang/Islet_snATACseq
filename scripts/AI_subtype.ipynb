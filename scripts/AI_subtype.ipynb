{
 "cells": [
  {
   "cell_type": "code",
   "execution_count": 2,
   "metadata": {},
   "outputs": [],
   "source": [
    "library(Matrix)\n",
    "library(xgboost)\n",
    "library(\"caret\")"
   ]
  },
  {
   "cell_type": "markdown",
   "metadata": {},
   "source": [
    "# load data"
   ]
  },
  {
   "cell_type": "code",
   "execution_count": 1,
   "metadata": {},
   "outputs": [],
   "source": [
    "########### download raw data\n",
    "### Download 10x snATAC-seq raw data from NCBI Gene Expression Omnibus (GSE169453)\n",
    "### Download 10x multiome raw data from NCBI Gene Expression Omnibus (GSE200044)\n",
    "\n",
    "########### Download processed snATAC-seq and multiome data to reproduce figures\n",
    "### There several ways to download processed data.\n",
    "###1, download files less than 25M from github data folder: https://github.com/gaoweiwang/Islet_snATACseq\n",
    "### or, from figshare:\n",
    "### multiome: https://figshare.com/articles/dataset/processed_multiome_zip/19497665\n",
    "### snATACseq: https://figshare.com/articles/dataset/processed_snATACseq_zip/19497656\n",
    "\n",
    "###2, download large processed or intermeidate files:\n",
    "#snATAC-seq data (http://169.228.232.194/~mmallick/o/processed_snATACseq.tar.gz)\n",
    "#multiome data (http://169.228.232.194/~mmallick/o/processed_multiome.tar.gz)\n",
    "\n",
    "########### change working directory\n",
    "wd_snATAC = '/oasis/tscc/scratch/gaw006/snATACseq/processed/'\n",
    "wd_multiome = '/oasis/tscc/scratch/gaw006/multiome/processed/'\n"
   ]
  },
  {
   "cell_type": "code",
   "execution_count": 3,
   "metadata": {},
   "outputs": [
    {
     "data": {
      "text/html": [
       "<ol class=list-inline>\n",
       "\t<li>218973</li>\n",
       "\t<li>404661</li>\n",
       "</ol>\n"
      ],
      "text/latex": [
       "\\begin{enumerate*}\n",
       "\\item 218973\n",
       "\\item 404661\n",
       "\\end{enumerate*}\n"
      ],
      "text/markdown": [
       "1. 218973\n",
       "2. 404661\n",
       "\n",
       "\n"
      ],
      "text/plain": [
       "[1] 218973 404661"
      ]
     },
     "metadata": {},
     "output_type": "display_data"
    },
    {
     "data": {
      "text/plain": [
       "4 x 4 sparse Matrix of class \"dgTMatrix\"\n",
       "                        1:100000097-100000597 1:100001226-100001726\n",
       "JYH792_AAACGAAAGCATTGGG                     .                     .\n",
       "JYH792_AAACGAAAGGGTCTGA                     .                     .\n",
       "JYH792_AAACGAAAGTAGACCG                     .                     .\n",
       "JYH792_AAACGAACAAATAGTG                     .                     .\n",
       "                        1:100009946-100010446 1:100014513-100015013\n",
       "JYH792_AAACGAAAGCATTGGG                     .                     .\n",
       "JYH792_AAACGAAAGGGTCTGA                     .                     .\n",
       "JYH792_AAACGAAAGTAGACCG                     .                     .\n",
       "JYH792_AAACGAACAAATAGTG                     .                     ."
      ]
     },
     "metadata": {},
     "output_type": "display_data"
    }
   ],
   "source": [
    "rm(list = ls())\n",
    "wd_snATAC = '/oasis/tscc/scratch/gaw006/snATACseq/processed/'\n",
    "wd_multiome = '/oasis/tscc/scratch/gaw006/multiome/processed/'\n",
    "\n",
    "# read in matrix data using the Matrix package\n",
    "indata <- Matrix::readMM(paste0(wd_snATAC,'snATAC_500bp.mtx')) \n",
    "indata@x[indata@x > 0] <- 1\n",
    "dim(indata)\n",
    "\n",
    "# format cell info\n",
    "cellinfo <- read.table(paste0(wd_snATAC,'snATAC_500bp.barcodes'))\n",
    "cell_ID <- as.character(cellinfo$V1)\n",
    "\n",
    "# format peak info\n",
    "peakinfo <- read.table(paste0(wd_snATAC,'snATAC_500bp.regions'))\n",
    "peak_ID <- as.character(peakinfo$V1)\n",
    "\n",
    "rownames(indata)=cell_ID\n",
    "colnames(indata)=peak_ID\n",
    "\n",
    "indata[1:4,1:4]"
   ]
  },
  {
   "cell_type": "code",
   "execution_count": 4,
   "metadata": {},
   "outputs": [
    {
     "data": {
      "text/html": [
       "<ol class=list-inline>\n",
       "\t<li>218973</li>\n",
       "\t<li>395657</li>\n",
       "</ol>\n"
      ],
      "text/latex": [
       "\\begin{enumerate*}\n",
       "\\item 218973\n",
       "\\item 395657\n",
       "\\end{enumerate*}\n"
      ],
      "text/markdown": [
       "1. 218973\n",
       "2. 395657\n",
       "\n",
       "\n"
      ],
      "text/plain": [
       "[1] 218973 395657"
      ]
     },
     "metadata": {},
     "output_type": "display_data"
    },
    {
     "data": {
      "text/html": [
       "9004"
      ],
      "text/latex": [
       "9004"
      ],
      "text/markdown": [
       "9004"
      ],
      "text/plain": [
       "[1] 9004"
      ]
     },
     "metadata": {},
     "output_type": "display_data"
    }
   ],
   "source": [
    "keep_gender=!(grepl(\"X\", peak_ID) | grepl(\"Y\", peak_ID))\n",
    "indata=indata[,keep_gender]\n",
    "dim(indata)\n",
    "length(peak_ID[(grepl(\"X\", peak_ID) | grepl(\"Y\", peak_ID))])"
   ]
  },
  {
   "cell_type": "code",
   "execution_count": 5,
   "metadata": {},
   "outputs": [
    {
     "data": {
      "text/html": [
       "<table>\n",
       "<thead><tr><th scope=col>index</th><th scope=col>donor</th><th scope=col>duplicated_reads</th><th scope=col>frac_duplicated_reads</th><th scope=col>frac_mito_reads</th><th scope=col>frac_promoters_used</th><th scope=col>frac_reads_in_peaks</th><th scope=col>frac_reads_in_promoters</th><th scope=col>log10_n_counts</th><th scope=col>log10_n_peaks</th><th scope=col>⋯</th><th scope=col>reads_in_promoters</th><th scope=col>total_sequenced_reads</th><th scope=col>tss_used</th><th scope=col>unique_mito_reads</th><th scope=col>unique_usable_reads</th><th scope=col>leiden</th><th scope=col>n_count_500bp</th><th scope=col>n_peak_500bp</th><th scope=col>celltype</th><th scope=col>disease</th></tr></thead>\n",
       "<tbody>\n",
       "\t<tr><td>JYH792_AAACGAAAGCATTGGG</td><td>JYH792                 </td><td>1805                   </td><td>0.1117855              </td><td>0.0066071554           </td><td>0.09164685             </td><td>0.4976297              </td><td>0.2753131              </td><td>4.158000               </td><td>3.832892               </td><td>⋯                      </td><td>3891                   </td><td>16147                  </td><td>1773                   </td><td> 94                    </td><td>14133                  </td><td>4                      </td><td>7277                   </td><td>3541                   </td><td>alpha                  </td><td>ND                     </td></tr>\n",
       "\t<tr><td>JYH792_AAACGAAAGGGTCTGA</td><td>JYH792                 </td><td>1904                   </td><td>0.1234040              </td><td>0.0007437709           </td><td>0.06606017             </td><td>0.4494976              </td><td>0.2059546              </td><td>4.133858               </td><td>3.802979               </td><td>⋯                      </td><td>2767                   </td><td>15429                  </td><td>1278                   </td><td> 10                    </td><td>13435                  </td><td>3                      </td><td>6125                   </td><td>3008                   </td><td>beta                   </td><td>ND                     </td></tr>\n",
       "\t<tr><td>JYH792_AAACGAAAGTAGACCG</td><td>JYH792                 </td><td>2062                   </td><td>0.1829474              </td><td>0.0297566372           </td><td>0.03613150             </td><td>0.3530954              </td><td>0.1631513              </td><td>3.944828               </td><td>3.632963               </td><td>⋯                      </td><td>1431                   </td><td>11271                  </td><td> 699                   </td><td>269                    </td><td> 8771                  </td><td>4                      </td><td>3309                   </td><td>1712                   </td><td>alpha                  </td><td>ND                     </td></tr>\n",
       "</tbody>\n",
       "</table>\n"
      ],
      "text/latex": [
       "\\begin{tabular}{r|lllllllllllllllllllllll}\n",
       " index & donor & duplicated\\_reads & frac\\_duplicated\\_reads & frac\\_mito\\_reads & frac\\_promoters\\_used & frac\\_reads\\_in\\_peaks & frac\\_reads\\_in\\_promoters & log10\\_n\\_counts & log10\\_n\\_peaks & ⋯ & reads\\_in\\_promoters & total\\_sequenced\\_reads & tss\\_used & unique\\_mito\\_reads & unique\\_usable\\_reads & leiden & n\\_count\\_500bp & n\\_peak\\_500bp & celltype & disease\\\\\n",
       "\\hline\n",
       "\t JYH792\\_AAACGAAAGCATTGGG & JYH792                    & 1805                      & 0.1117855                 & 0.0066071554              & 0.09164685                & 0.4976297                 & 0.2753131                 & 4.158000                  & 3.832892                  & ⋯                         & 3891                      & 16147                     & 1773                      &  94                       & 14133                     & 4                         & 7277                      & 3541                      & alpha                     & ND                       \\\\\n",
       "\t JYH792\\_AAACGAAAGGGTCTGA & JYH792                    & 1904                      & 0.1234040                 & 0.0007437709              & 0.06606017                & 0.4494976                 & 0.2059546                 & 4.133858                  & 3.802979                  & ⋯                         & 2767                      & 15429                     & 1278                      &  10                       & 13435                     & 3                         & 6125                      & 3008                      & beta                      & ND                       \\\\\n",
       "\t JYH792\\_AAACGAAAGTAGACCG & JYH792                    & 2062                      & 0.1829474                 & 0.0297566372              & 0.03613150                & 0.3530954                 & 0.1631513                 & 3.944828                  & 3.632963                  & ⋯                         & 1431                      & 11271                     &  699                      & 269                       &  8771                     & 4                         & 3309                      & 1712                      & alpha                     & ND                       \\\\\n",
       "\\end{tabular}\n"
      ],
      "text/markdown": [
       "\n",
       "index | donor | duplicated_reads | frac_duplicated_reads | frac_mito_reads | frac_promoters_used | frac_reads_in_peaks | frac_reads_in_promoters | log10_n_counts | log10_n_peaks | ⋯ | reads_in_promoters | total_sequenced_reads | tss_used | unique_mito_reads | unique_usable_reads | leiden | n_count_500bp | n_peak_500bp | celltype | disease | \n",
       "|---|---|---|\n",
       "| JYH792_AAACGAAAGCATTGGG | JYH792                  | 1805                    | 0.1117855               | 0.0066071554            | 0.09164685              | 0.4976297               | 0.2753131               | 4.158000                | 3.832892                | ⋯                       | 3891                    | 16147                   | 1773                    |  94                     | 14133                   | 4                       | 7277                    | 3541                    | alpha                   | ND                      | \n",
       "| JYH792_AAACGAAAGGGTCTGA | JYH792                  | 1904                    | 0.1234040               | 0.0007437709            | 0.06606017              | 0.4494976               | 0.2059546               | 4.133858                | 3.802979                | ⋯                       | 2767                    | 15429                   | 1278                    |  10                     | 13435                   | 3                       | 6125                    | 3008                    | beta                    | ND                      | \n",
       "| JYH792_AAACGAAAGTAGACCG | JYH792                  | 2062                    | 0.1829474               | 0.0297566372            | 0.03613150              | 0.3530954               | 0.1631513               | 3.944828                | 3.632963                | ⋯                       | 1431                    | 11271                   |  699                    | 269                     |  8771                   | 4                       | 3309                    | 1712                    | alpha                   | ND                      | \n",
       "\n",
       "\n"
      ],
      "text/plain": [
       "  index                   donor  duplicated_reads frac_duplicated_reads\n",
       "1 JYH792_AAACGAAAGCATTGGG JYH792 1805             0.1117855            \n",
       "2 JYH792_AAACGAAAGGGTCTGA JYH792 1904             0.1234040            \n",
       "3 JYH792_AAACGAAAGTAGACCG JYH792 2062             0.1829474            \n",
       "  frac_mito_reads frac_promoters_used frac_reads_in_peaks\n",
       "1 0.0066071554    0.09164685          0.4976297          \n",
       "2 0.0007437709    0.06606017          0.4494976          \n",
       "3 0.0297566372    0.03613150          0.3530954          \n",
       "  frac_reads_in_promoters log10_n_counts log10_n_peaks ⋯ reads_in_promoters\n",
       "1 0.2753131               4.158000       3.832892      ⋯ 3891              \n",
       "2 0.2059546               4.133858       3.802979      ⋯ 2767              \n",
       "3 0.1631513               3.944828       3.632963      ⋯ 1431              \n",
       "  total_sequenced_reads tss_used unique_mito_reads unique_usable_reads leiden\n",
       "1 16147                 1773      94               14133               4     \n",
       "2 15429                 1278      10               13435               3     \n",
       "3 11271                  699     269                8771               4     \n",
       "  n_count_500bp n_peak_500bp celltype disease\n",
       "1 7277          3541         alpha    ND     \n",
       "2 6125          3008         beta     ND     \n",
       "3 3309          1712         alpha    ND     "
      ]
     },
     "metadata": {},
     "output_type": "display_data"
    }
   ],
   "source": [
    "#### barcode annotation\n",
    "\n",
    "M=read.csv(paste0(wd_snATAC,'barcode_info.csv'))\n",
    "\n",
    "M_donor=as.character(M$donor)\n",
    "M_leiden=as.numeric(M$leiden)\n",
    "\n",
    "C=read.csv(paste0(wd_snATAC,'meta_data.csv'))\n",
    "###subset\n",
    "C=C[(as.character(C$donor) %in% M_donor),]\n",
    "\n",
    "donor_all=as.character(C$donor)\n",
    "disease_all=as.character(C$Sample.Description.Name)\n",
    "donor_ND=donor_all[disease_all=='Non']\n",
    "donor_PD=donor_all[disease_all=='Pre']\n",
    "donor_T2D=donor_all[disease_all=='T2D']\n",
    "\n",
    "M_disease=M_donor\n",
    "M_disease[M_donor %in% donor_ND]='ND'\n",
    "M_disease[M_donor %in% donor_PD]='PD'\n",
    "M_disease[M_donor %in% donor_T2D]='T2D'\n",
    "\n",
    "M_celltype=M_donor\n",
    "alpha_ID=c(0,4,8)\n",
    "beta_ID=c(1,2,3,5)\n",
    "delta_ID=c(6)\n",
    "gamma_ID=c(10)\n",
    "acinar_ID=c(7)\n",
    "ductal_ID=c(9)\n",
    "stellate_ID=c(11)\n",
    "endothelial_ID=c(13)\n",
    "immune_ID=c(12)\n",
    "M_celltype[M_leiden %in% alpha_ID]='alpha'\n",
    "M_celltype[M_leiden %in% beta_ID]='beta'\n",
    "M_celltype[M_leiden %in% delta_ID]='delta'\n",
    "M_celltype[M_leiden %in% gamma_ID]='gamma'\n",
    "M_celltype[M_leiden %in% acinar_ID]='acinar'\n",
    "M_celltype[M_leiden %in% ductal_ID]='ductal'\n",
    "M_celltype[M_leiden %in% stellate_ID]='stellate'\n",
    "M_celltype[M_leiden %in% endothelial_ID]='endothelial'\n",
    "M_celltype[M_leiden %in% immune_ID]='immune'\n",
    "\n",
    "M$celltype=M_celltype\n",
    "M$disease=M_disease\n",
    "M[1:3,]"
   ]
  },
  {
   "cell_type": "code",
   "execution_count": 6,
   "metadata": {},
   "outputs": [
    {
     "data": {
      "text/html": [
       "TRUE"
      ],
      "text/latex": [
       "TRUE"
      ],
      "text/markdown": [
       "TRUE"
      ],
      "text/plain": [
       "[1] TRUE"
      ]
     },
     "metadata": {},
     "output_type": "display_data"
    },
    {
     "data": {
      "text/html": [
       "<ol class=list-inline>\n",
       "\t<li>218973</li>\n",
       "\t<li>395657</li>\n",
       "</ol>\n"
      ],
      "text/latex": [
       "\\begin{enumerate*}\n",
       "\\item 218973\n",
       "\\item 395657\n",
       "\\end{enumerate*}\n"
      ],
      "text/markdown": [
       "1. 218973\n",
       "2. 395657\n",
       "\n",
       "\n"
      ],
      "text/plain": [
       "[1] 218973 395657"
      ]
     },
     "metadata": {},
     "output_type": "display_data"
    },
    {
     "data": {
      "text/html": [
       "230573"
      ],
      "text/latex": [
       "230573"
      ],
      "text/markdown": [
       "230573"
      ],
      "text/plain": [
       "[1] 230573"
      ]
     },
     "metadata": {},
     "output_type": "display_data"
    },
    {
     "data": {
      "text/html": [
       "<ol class=list-inline>\n",
       "\t<li>92780</li>\n",
       "\t<li>224671</li>\n",
       "</ol>\n"
      ],
      "text/latex": [
       "\\begin{enumerate*}\n",
       "\\item 92780\n",
       "\\item 224671\n",
       "\\end{enumerate*}\n"
      ],
      "text/markdown": [
       "1. 92780\n",
       "2. 224671\n",
       "\n",
       "\n"
      ],
      "text/plain": [
       "[1]  92780 224671"
      ]
     },
     "metadata": {},
     "output_type": "display_data"
    },
    {
     "data": {
      "text/html": [
       "TRUE"
      ],
      "text/latex": [
       "TRUE"
      ],
      "text/markdown": [
       "TRUE"
      ],
      "text/plain": [
       "[1] TRUE"
      ]
     },
     "metadata": {},
     "output_type": "display_data"
    }
   ],
   "source": [
    "indata=indata[(rownames(indata) %in% as.character(M$index)),]\n",
    "all(as.character(M$index)==rownames(indata))\n",
    "dim(indata)\n",
    "\n",
    "########################################\n",
    "######### using beta cell as example\n",
    "keep_cell=(M$celltype=='beta')\n",
    "P=read.csv(paste0(wd_snATAC,'peak_celltype_500_all.csv'))\n",
    "P_all=as.character(P$X)\n",
    "P_beta=P_all[as.numeric(P$beta)>0]\n",
    "length(P_beta)\n",
    "keep_peak=(colnames(indata) %in% P_beta)\n",
    "\n",
    "data_use=indata[keep_cell,keep_peak]\n",
    "M_use=M[keep_cell,]\n",
    "dim(data_use)\n",
    "all(rownames(data_use)==as.character(M_use$index))"
   ]
  },
  {
   "cell_type": "code",
   "execution_count": 7,
   "metadata": {},
   "outputs": [
    {
     "data": {
      "text/html": [
       "98"
      ],
      "text/latex": [
       "98"
      ],
      "text/markdown": [
       "98"
      ],
      "text/plain": [
       "[1] 98"
      ]
     },
     "metadata": {},
     "output_type": "display_data"
    },
    {
     "data": {
      "text/html": [
       "58"
      ],
      "text/latex": [
       "58"
      ],
      "text/markdown": [
       "58"
      ],
      "text/plain": [
       "[1] 58"
      ]
     },
     "metadata": {},
     "output_type": "display_data"
    }
   ],
   "source": [
    "row_sum=Matrix::rowSums(data_use)\n",
    "col_sum=Matrix::colSums(data_use)\n",
    "min(row_sum)\n",
    "min(col_sum)\n"
   ]
  },
  {
   "cell_type": "code",
   "execution_count": 8,
   "metadata": {},
   "outputs": [
    {
     "data": {
      "text/html": [
       "<ol class=list-inline>\n",
       "\t<li>90290</li>\n",
       "\t<li>224573</li>\n",
       "</ol>\n"
      ],
      "text/latex": [
       "\\begin{enumerate*}\n",
       "\\item 90290\n",
       "\\item 224573\n",
       "\\end{enumerate*}\n"
      ],
      "text/markdown": [
       "1. 90290\n",
       "2. 224573\n",
       "\n",
       "\n"
      ],
      "text/plain": [
       "[1]  90290 224573"
      ]
     },
     "metadata": {},
     "output_type": "display_data"
    },
    {
     "data": {
      "text/html": [
       "TRUE"
      ],
      "text/latex": [
       "TRUE"
      ],
      "text/markdown": [
       "TRUE"
      ],
      "text/plain": [
       "[1] TRUE"
      ]
     },
     "metadata": {},
     "output_type": "display_data"
    }
   ],
   "source": [
    "## remove cells with <1000 reads and peaks counted in <100 cells\n",
    "keep_cell=(row_sum>1000)\n",
    "keep_peak=(col_sum>100)\n",
    "\n",
    "data_use=data_use[keep_cell,keep_peak]\n",
    "M_use=M_use[keep_cell,]\n",
    "dim(data_use)\n",
    "all(rownames(data_use)==as.character(M_use$index))"
   ]
  },
  {
   "cell_type": "markdown",
   "metadata": {},
   "source": [
    "# Identification of beta cell subtypes"
   ]
  },
  {
   "cell_type": "code",
   "execution_count": 9,
   "metadata": {},
   "outputs": [
    {
     "data": {
      "text/html": [
       "<table>\n",
       "<thead><tr><th scope=col>X</th><th scope=col>index</th><th scope=col>donor</th><th scope=col>duplicated_reads</th><th scope=col>frac_duplicated_reads</th><th scope=col>frac_mito_reads</th><th scope=col>frac_promoters_used</th><th scope=col>frac_reads_in_peaks</th><th scope=col>frac_reads_in_promoters</th><th scope=col>log10_n_counts</th><th scope=col>⋯</th><th scope=col>total_sequenced_reads</th><th scope=col>tss_used</th><th scope=col>unique_mito_reads</th><th scope=col>unique_usable_reads</th><th scope=col>leiden</th><th scope=col>n_count_500bp</th><th scope=col>n_peak_500bp</th><th scope=col>celltype</th><th scope=col>disease</th><th scope=col>pre_disease</th></tr></thead>\n",
       "<tbody>\n",
       "\t<tr><td>1                      </td><td>JYH792_AAACGAAAGGGTCTGA</td><td>JYH792                 </td><td>1904                   </td><td>0.12340398             </td><td>0.0007437709           </td><td>0.06606017             </td><td>0.4494976              </td><td>0.2059546              </td><td>4.133858               </td><td>⋯                      </td><td>15429                  </td><td>1278                   </td><td>10                     </td><td>13435                  </td><td>3                      </td><td> 6125                  </td><td>3008                   </td><td>beta                   </td><td>ND                     </td><td>ND                     </td></tr>\n",
       "\t<tr><td>2                      </td><td>JYH792_AAACGAAGTACAAATG</td><td>JYH792                 </td><td>4492                   </td><td>0.16301350             </td><td>0.0023574609           </td><td>0.13046625             </td><td>0.5881323              </td><td>0.2551199              </td><td>4.363725               </td><td>⋯                      </td><td>27556                  </td><td>2524                   </td><td>54                     </td><td>22852                  </td><td>3                      </td><td>13758                  </td><td>6436                   </td><td>beta                   </td><td>ND                     </td><td>ND                     </td></tr>\n",
       "\t<tr><td>3                      </td><td>JYH792_AAACGAAGTTCCCAAA</td><td>JYH792                 </td><td>2779                   </td><td>0.09677869             </td><td>0.0031811305           </td><td>0.14075261             </td><td>0.5316599              </td><td>0.2499319              </td><td>4.416324               </td><td>⋯                      </td><td>28715                  </td><td>2723                   </td><td>82                     </td><td>25695                  </td><td>1                      </td><td>14042                  </td><td>6538                   </td><td>beta                   </td><td>ND                     </td><td>ND                     </td></tr>\n",
       "</tbody>\n",
       "</table>\n"
      ],
      "text/latex": [
       "\\begin{tabular}{r|lllllllllllllllllllllllll}\n",
       " X & index & donor & duplicated\\_reads & frac\\_duplicated\\_reads & frac\\_mito\\_reads & frac\\_promoters\\_used & frac\\_reads\\_in\\_peaks & frac\\_reads\\_in\\_promoters & log10\\_n\\_counts & ⋯ & total\\_sequenced\\_reads & tss\\_used & unique\\_mito\\_reads & unique\\_usable\\_reads & leiden & n\\_count\\_500bp & n\\_peak\\_500bp & celltype & disease & pre\\_disease\\\\\n",
       "\\hline\n",
       "\t 1                         & JYH792\\_AAACGAAAGGGTCTGA & JYH792                    & 1904                      & 0.12340398                & 0.0007437709              & 0.06606017                & 0.4494976                 & 0.2059546                 & 4.133858                  & ⋯                         & 15429                     & 1278                      & 10                        & 13435                     & 3                         &  6125                     & 3008                      & beta                      & ND                        & ND                       \\\\\n",
       "\t 2                         & JYH792\\_AAACGAAGTACAAATG & JYH792                    & 4492                      & 0.16301350                & 0.0023574609              & 0.13046625                & 0.5881323                 & 0.2551199                 & 4.363725                  & ⋯                         & 27556                     & 2524                      & 54                        & 22852                     & 3                         & 13758                     & 6436                      & beta                      & ND                        & ND                       \\\\\n",
       "\t 3                         & JYH792\\_AAACGAAGTTCCCAAA & JYH792                    & 2779                      & 0.09677869                & 0.0031811305              & 0.14075261                & 0.5316599                 & 0.2499319                 & 4.416324                  & ⋯                         & 28715                     & 2723                      & 82                        & 25695                     & 1                         & 14042                     & 6538                      & beta                      & ND                        & ND                       \\\\\n",
       "\\end{tabular}\n"
      ],
      "text/markdown": [
       "\n",
       "X | index | donor | duplicated_reads | frac_duplicated_reads | frac_mito_reads | frac_promoters_used | frac_reads_in_peaks | frac_reads_in_promoters | log10_n_counts | ⋯ | total_sequenced_reads | tss_used | unique_mito_reads | unique_usable_reads | leiden | n_count_500bp | n_peak_500bp | celltype | disease | pre_disease | \n",
       "|---|---|---|\n",
       "| 1                       | JYH792_AAACGAAAGGGTCTGA | JYH792                  | 1904                    | 0.12340398              | 0.0007437709            | 0.06606017              | 0.4494976               | 0.2059546               | 4.133858                | ⋯                       | 15429                   | 1278                    | 10                      | 13435                   | 3                       |  6125                   | 3008                    | beta                    | ND                      | ND                      | \n",
       "| 2                       | JYH792_AAACGAAGTACAAATG | JYH792                  | 4492                    | 0.16301350              | 0.0023574609            | 0.13046625              | 0.5881323               | 0.2551199               | 4.363725                | ⋯                       | 27556                   | 2524                    | 54                      | 22852                   | 3                       | 13758                   | 6436                    | beta                    | ND                      | ND                      | \n",
       "| 3                       | JYH792_AAACGAAGTTCCCAAA | JYH792                  | 2779                    | 0.09677869              | 0.0031811305            | 0.14075261              | 0.5316599               | 0.2499319               | 4.416324                | ⋯                       | 28715                   | 2723                    | 82                      | 25695                   | 1                       | 14042                   | 6538                    | beta                    | ND                      | ND                      | \n",
       "\n",
       "\n"
      ],
      "text/plain": [
       "  X index                   donor  duplicated_reads frac_duplicated_reads\n",
       "1 1 JYH792_AAACGAAAGGGTCTGA JYH792 1904             0.12340398           \n",
       "2 2 JYH792_AAACGAAGTACAAATG JYH792 4492             0.16301350           \n",
       "3 3 JYH792_AAACGAAGTTCCCAAA JYH792 2779             0.09677869           \n",
       "  frac_mito_reads frac_promoters_used frac_reads_in_peaks\n",
       "1 0.0007437709    0.06606017          0.4494976          \n",
       "2 0.0023574609    0.13046625          0.5881323          \n",
       "3 0.0031811305    0.14075261          0.5316599          \n",
       "  frac_reads_in_promoters log10_n_counts ⋯ total_sequenced_reads tss_used\n",
       "1 0.2059546               4.133858       ⋯ 15429                 1278    \n",
       "2 0.2551199               4.363725       ⋯ 27556                 2524    \n",
       "3 0.2499319               4.416324       ⋯ 28715                 2723    \n",
       "  unique_mito_reads unique_usable_reads leiden n_count_500bp n_peak_500bp\n",
       "1 10                13435               3       6125         3008        \n",
       "2 54                22852               3      13758         6436        \n",
       "3 82                25695               1      14042         6538        \n",
       "  celltype disease pre_disease\n",
       "1 beta     ND      ND         \n",
       "2 beta     ND      ND         \n",
       "3 beta     ND      ND         "
      ]
     },
     "metadata": {},
     "output_type": "display_data"
    },
    {
     "data": {
      "text/html": [
       "<ol class=list-inline>\n",
       "\t<li>'JYH792'</li>\n",
       "\t<li>'MM110'</li>\n",
       "\t<li>'MM123'</li>\n",
       "\t<li>'MM124'</li>\n",
       "\t<li>'MM56'</li>\n",
       "\t<li>'MM59'</li>\n",
       "\t<li>'MM80'</li>\n",
       "\t<li>'MM86'</li>\n",
       "\t<li>'MM89'</li>\n",
       "\t<li>'MM95'</li>\n",
       "\t<li>'MM98'</li>\n",
       "\t<li>'JYH809'</li>\n",
       "\t<li>'MM109'</li>\n",
       "\t<li>'MM12'</li>\n",
       "\t<li>'MM120'</li>\n",
       "\t<li>'MM121'</li>\n",
       "\t<li>'MM122'</li>\n",
       "\t<li>'MM51'</li>\n",
       "\t<li>'MM54'</li>\n",
       "\t<li>'MM57'</li>\n",
       "\t<li>'MM60'</li>\n",
       "\t<li>'MM79'</li>\n",
       "\t<li>'MM81'</li>\n",
       "\t<li>'MM88'</li>\n",
       "\t<li>'MM94'</li>\n",
       "\t<li>'MM97'</li>\n",
       "</ol>\n"
      ],
      "text/latex": [
       "\\begin{enumerate*}\n",
       "\\item 'JYH792'\n",
       "\\item 'MM110'\n",
       "\\item 'MM123'\n",
       "\\item 'MM124'\n",
       "\\item 'MM56'\n",
       "\\item 'MM59'\n",
       "\\item 'MM80'\n",
       "\\item 'MM86'\n",
       "\\item 'MM89'\n",
       "\\item 'MM95'\n",
       "\\item 'MM98'\n",
       "\\item 'JYH809'\n",
       "\\item 'MM109'\n",
       "\\item 'MM12'\n",
       "\\item 'MM120'\n",
       "\\item 'MM121'\n",
       "\\item 'MM122'\n",
       "\\item 'MM51'\n",
       "\\item 'MM54'\n",
       "\\item 'MM57'\n",
       "\\item 'MM60'\n",
       "\\item 'MM79'\n",
       "\\item 'MM81'\n",
       "\\item 'MM88'\n",
       "\\item 'MM94'\n",
       "\\item 'MM97'\n",
       "\\end{enumerate*}\n"
      ],
      "text/markdown": [
       "1. 'JYH792'\n",
       "2. 'MM110'\n",
       "3. 'MM123'\n",
       "4. 'MM124'\n",
       "5. 'MM56'\n",
       "6. 'MM59'\n",
       "7. 'MM80'\n",
       "8. 'MM86'\n",
       "9. 'MM89'\n",
       "10. 'MM95'\n",
       "11. 'MM98'\n",
       "12. 'JYH809'\n",
       "13. 'MM109'\n",
       "14. 'MM12'\n",
       "15. 'MM120'\n",
       "16. 'MM121'\n",
       "17. 'MM122'\n",
       "18. 'MM51'\n",
       "19. 'MM54'\n",
       "20. 'MM57'\n",
       "21. 'MM60'\n",
       "22. 'MM79'\n",
       "23. 'MM81'\n",
       "24. 'MM88'\n",
       "25. 'MM94'\n",
       "26. 'MM97'\n",
       "\n",
       "\n"
      ],
      "text/plain": [
       " [1] \"JYH792\" \"MM110\"  \"MM123\"  \"MM124\"  \"MM56\"   \"MM59\"   \"MM80\"   \"MM86\"  \n",
       " [9] \"MM89\"   \"MM95\"   \"MM98\"   \"JYH809\" \"MM109\"  \"MM12\"   \"MM120\"  \"MM121\" \n",
       "[17] \"MM122\"  \"MM51\"   \"MM54\"   \"MM57\"   \"MM60\"   \"MM79\"   \"MM81\"   \"MM88\"  \n",
       "[25] \"MM94\"   \"MM97\"  "
      ]
     },
     "metadata": {},
     "output_type": "display_data"
    }
   ],
   "source": [
    "M_new=read.csv(paste0(wd_snATAC,'beta_subtype_temp1.csv'))\n",
    "M_new[1:3,]\n",
    "donor_all=c(donor_ND,donor_T2D) #########\n",
    "donor_all"
   ]
  },
  {
   "cell_type": "code",
   "execution_count": null,
   "metadata": {},
   "outputs": [],
   "source": [
    "temp_label=rep('no',dim(M_new)[1])\n",
    "temp_pro=rep(-1,dim(M_new)[1])\n",
    "\n",
    "for (i in 1:length(donor_all)){\n",
    "    keep_1=(as.character(M_new$donor)!=donor_all[i])\n",
    "    keep_2=(as.character(M_new$disease)!='PD')\n",
    "    keep_3=(as.character(M_new$disease)==as.character(M_new$pre_disease))\n",
    "    \n",
    "    keep_test=(as.character(M_new$donor)==donor_all[i])\n",
    "    \n",
    "    keep_train=(keep_1 & keep_2 & keep_3)\n",
    "    train.x = data_use[keep_train,]\n",
    "    test.x = data_use[keep_test,]\n",
    "    \n",
    "    train_disease=as.character(M_new$disease)\n",
    "    train_d=rep(0,length(train_disease))\n",
    "    train_d[train_disease=='T2D']=1   #######\n",
    "    train_d[train_disease=='ND']=0  #######\n",
    "    train.y = train_d[keep_train]\n",
    "    test.y = train_d[keep_test]\n",
    "    \n",
    "    train.x1=as(train.x, \"dgCMatrix\")\n",
    "    bst <- xgboost(data = train.x1, label = train.y, max.depth = 60, eta = 0.2, nthread = 24, nrounds = 80, objective = \"binary:logistic\")\n",
    "    test.x1=as(test.x, \"dgCMatrix\")\n",
    "    pred <- predict(bst, test.x1)\n",
    "    \n",
    "    pred_label=as.numeric(pred > 0.5)\n",
    "    pred_label1=pred_label\n",
    "    pred_label1[pred_label==0]='ND' #######\n",
    "    pred_label1[pred_label==1]='T2D' #######\n",
    "    temp_label[keep_test]=pred_label1\n",
    "    temp_pro[keep_test]=pred\n",
    "    \n",
    "    M_new$subtype=temp_label #######\n",
    "    M_new$subtype_probability=temp_pro\n",
    "    write.csv(M_new,paste0(wd_snATAC,'beta_subtype_temp2.csv')) #######\n",
    "}"
   ]
  },
  {
   "cell_type": "code",
   "execution_count": null,
   "metadata": {},
   "outputs": [],
   "source": [
    "'''\n",
    "if pre_disease and subtype in the M_new dataframe (beta_subtype_temp2.csv) are not identical (beta subtype identification did not convergent yet), then\n",
    "    replace column pre_disease in the M_new dataframe using column subtype, and repeat the above training and testing steps\n",
    "if pre_disease and subtype in the M_new dataframe are identical, then\n",
    "    stop the iteration, and use the code below to predict subtype of pre-T2D beta cells\n",
    "\n",
    "of note, we iterated 12 times to get the convergent results\n",
    "\n",
    "'''"
   ]
  },
  {
   "cell_type": "code",
   "execution_count": null,
   "metadata": {},
   "outputs": [],
   "source": [
    "donor_all=c(donor_PD) #########\n",
    "donor_all\n",
    "\n",
    "temp_label=rep('no',dim(M_new)[1])\n",
    "temp_pro=rep(-1,dim(M_new)[1])\n",
    "\n",
    "for (i in 1:length(donor_all)){\n",
    "    if (i==1){\n",
    "        keep_1=(as.character(M_new$donor)!=donor_all[i])\n",
    "        keep_2=(as.character(M_new$disease)!='PD')\n",
    "        keep_3=(as.character(M_new$disease)==as.character(M_new$pre_disease))\n",
    "        \n",
    "        keep_train=(keep_1 & keep_2 & keep_3)\n",
    "        train.x = data_use[keep_train,]\n",
    "        \n",
    "        train_disease=as.character(M_new$disease)\n",
    "        train_d=rep(0,length(train_disease))\n",
    "        train_d[train_disease=='T2D']=1   #######\n",
    "        train_d[train_disease=='ND']=0  #######\n",
    "        train.y = train_d[keep_train]\n",
    "        \n",
    "        train.x1=as(train.x, \"dgCMatrix\")\n",
    "        bst <- xgboost(data = train.x1, label = train.y, max.depth = 60, eta = 0.2, nthread = 24, nrounds = 80, objective = \"binary:logistic\")\n",
    "    \n",
    "    }\n",
    "    \n",
    "    \n",
    "    keep_test=(as.character(M_new$donor)==donor_all[i])\n",
    "    test.x = data_use[keep_test,]\n",
    "    test.y = train_d[keep_test]\n",
    "    \n",
    "    test.x1=as(test.x, \"dgCMatrix\")\n",
    "    pred <- predict(bst, test.x1)\n",
    "    \n",
    "    pred_label=as.numeric(pred > 0.5)\n",
    "    pred_label1=pred_label\n",
    "    pred_label1[pred_label==0]='ND' #######\n",
    "    pred_label1[pred_label==1]='T2D' #######\n",
    "    temp_label[keep_test]=pred_label1\n",
    "    temp_pro[keep_test]=pred\n",
    "    \n",
    "    M_new$subtype=temp_label #######\n",
    "    M_new$subtype_probability=temp_pro\n",
    "    \n",
    "    ## save final results of beta cell subtype calssification\n",
    "    #write.csv(M_new,paste0(wd_snATAC,'AI_beta_subtype.csv')) #######\n",
    "}"
   ]
  },
  {
   "cell_type": "code",
   "execution_count": null,
   "metadata": {},
   "outputs": [],
   "source": []
  },
  {
   "cell_type": "code",
   "execution_count": null,
   "metadata": {},
   "outputs": [],
   "source": []
  }
 ],
 "metadata": {
  "kernelspec": {
   "display_name": "R [conda env:root] *",
   "language": "R",
   "name": "conda-root-r"
  },
  "language_info": {
   "codemirror_mode": "r",
   "file_extension": ".r",
   "mimetype": "text/x-r-source",
   "name": "R",
   "pygments_lexer": "r",
   "version": "3.5.1"
  }
 },
 "nbformat": 4,
 "nbformat_minor": 2
}
